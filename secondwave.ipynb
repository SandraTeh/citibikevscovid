{
 "cells": [
  {
   "cell_type": "code",
   "execution_count": 1,
   "metadata": {
    "ExecuteTime": {
     "end_time": "2021-02-20T08:08:52.499566Z",
     "start_time": "2021-02-20T08:08:51.701148Z"
    }
   },
   "outputs": [],
   "source": [
    "# Dependencies\n",
    "# ----------------------------------\n",
    "# Imports the method used for connecting to DBs\n",
    "from sqlalchemy import create_engine\n",
    "\n",
    "\n",
    "# Imports the methods needed to abstract classes into tables\n",
    "from sqlalchemy.ext.declarative import declarative_base\n",
    "\n",
    "# Allow us to declare column types\n",
    "from sqlalchemy import Column, Integer, String, Float, Date\n",
    "\n",
    "#Import Pandas\n",
    "import pandas as pd\n",
    "\n",
    "#Import datetime\n",
    "import datetime"
   ]
  },
  {
   "cell_type": "code",
   "execution_count": 2,
   "metadata": {
    "ExecuteTime": {
     "end_time": "2021-02-20T08:08:52.508499Z",
     "start_time": "2021-02-20T08:08:52.503530Z"
    }
   },
   "outputs": [],
   "source": [
    "#get the file\n",
    "oct_df = \"data/202010-citibike-tripdata.csv\"\n",
    "nov_df = \"data/202011-citibike-tripdata.csv\"\n",
    "dec_df = \"data/202012-citibike-tripdata.csv\"\n",
    "jan_df = \"data/202101-citibike-tripdata.csv\"\n",
    "covid_df = \"data/ccases.csv\""
   ]
  },
  {
   "cell_type": "code",
   "execution_count": 3,
   "metadata": {
    "ExecuteTime": {
     "end_time": "2021-02-20T08:09:06.008206Z",
     "start_time": "2021-02-20T08:08:52.510549Z"
    }
   },
   "outputs": [],
   "source": [
    "#read the data file\n",
    "df_oct = pd.read_csv(oct_df)\n",
    "df_nov = pd.read_csv(nov_df)\n",
    "df_dec = pd.read_csv(dec_df)\n",
    "df_jan = pd.read_csv(jan_df)\n",
    "df_covid = pd.read_csv(covid_df)"
   ]
  },
  {
   "cell_type": "code",
   "execution_count": 4,
   "metadata": {
    "ExecuteTime": {
     "end_time": "2021-02-20T08:09:06.013010Z",
     "start_time": "2021-02-20T08:09:06.009115Z"
    }
   },
   "outputs": [],
   "source": [
    "#combine citibike dataframe\n",
    "frames = [df_oct, df_nov, df_dec, df_jan]"
   ]
  },
  {
   "cell_type": "code",
   "execution_count": 5,
   "metadata": {
    "ExecuteTime": {
     "end_time": "2021-02-20T08:09:07.459353Z",
     "start_time": "2021-02-20T08:09:06.015113Z"
    }
   },
   "outputs": [],
   "source": [
    "citibike = pd.concat(frames)"
   ]
  },
  {
   "cell_type": "code",
   "execution_count": 6,
   "metadata": {
    "ExecuteTime": {
     "end_time": "2021-02-20T08:09:07.545342Z",
     "start_time": "2021-02-20T08:09:07.465337Z"
    }
   },
   "outputs": [
    {
     "data": {
      "text/html": [
       "<div>\n",
       "<style scoped>\n",
       "    .dataframe tbody tr th:only-of-type {\n",
       "        vertical-align: middle;\n",
       "    }\n",
       "\n",
       "    .dataframe tbody tr th {\n",
       "        vertical-align: top;\n",
       "    }\n",
       "\n",
       "    .dataframe thead th {\n",
       "        text-align: right;\n",
       "    }\n",
       "</style>\n",
       "<table border=\"1\" class=\"dataframe\">\n",
       "  <thead>\n",
       "    <tr style=\"text-align: right;\">\n",
       "      <th></th>\n",
       "      <th>tripduration</th>\n",
       "      <th>starttime</th>\n",
       "      <th>stoptime</th>\n",
       "      <th>start station id</th>\n",
       "      <th>start station name</th>\n",
       "      <th>start station latitude</th>\n",
       "      <th>start station longitude</th>\n",
       "      <th>end station id</th>\n",
       "      <th>end station name</th>\n",
       "      <th>end station latitude</th>\n",
       "      <th>end station longitude</th>\n",
       "      <th>bikeid</th>\n",
       "      <th>usertype</th>\n",
       "      <th>birth year</th>\n",
       "      <th>gender</th>\n",
       "    </tr>\n",
       "  </thead>\n",
       "  <tbody>\n",
       "    <tr>\n",
       "      <th>0</th>\n",
       "      <td>1403</td>\n",
       "      <td>2020-10-01 00:00:10.7870</td>\n",
       "      <td>2020-10-01 00:23:34.5400</td>\n",
       "      <td>224</td>\n",
       "      <td>Spruce St &amp; Nassau St</td>\n",
       "      <td>40.711464</td>\n",
       "      <td>-74.005524</td>\n",
       "      <td>3347</td>\n",
       "      <td>Van Brunt St &amp; Wolcott St</td>\n",
       "      <td>40.677343</td>\n",
       "      <td>-74.012751</td>\n",
       "      <td>39079</td>\n",
       "      <td>Subscriber</td>\n",
       "      <td>1995</td>\n",
       "      <td>1</td>\n",
       "    </tr>\n",
       "    <tr>\n",
       "      <th>1</th>\n",
       "      <td>462</td>\n",
       "      <td>2020-10-01 00:00:18.2390</td>\n",
       "      <td>2020-10-01 00:08:00.5710</td>\n",
       "      <td>3161</td>\n",
       "      <td>W 76 St &amp; Columbus Ave</td>\n",
       "      <td>40.780184</td>\n",
       "      <td>-73.977285</td>\n",
       "      <td>3158</td>\n",
       "      <td>W 63 St &amp; Broadway</td>\n",
       "      <td>40.771639</td>\n",
       "      <td>-73.982614</td>\n",
       "      <td>41267</td>\n",
       "      <td>Subscriber</td>\n",
       "      <td>1998</td>\n",
       "      <td>2</td>\n",
       "    </tr>\n",
       "    <tr>\n",
       "      <th>2</th>\n",
       "      <td>770</td>\n",
       "      <td>2020-10-01 00:00:21.3070</td>\n",
       "      <td>2020-10-01 00:13:12.0840</td>\n",
       "      <td>354</td>\n",
       "      <td>Emerson Pl &amp; Myrtle Ave</td>\n",
       "      <td>40.693631</td>\n",
       "      <td>-73.962236</td>\n",
       "      <td>3761</td>\n",
       "      <td>Cedar St &amp; Myrtle Ave</td>\n",
       "      <td>40.697842</td>\n",
       "      <td>-73.926241</td>\n",
       "      <td>47398</td>\n",
       "      <td>Customer</td>\n",
       "      <td>1996</td>\n",
       "      <td>1</td>\n",
       "    </tr>\n",
       "    <tr>\n",
       "      <th>3</th>\n",
       "      <td>233</td>\n",
       "      <td>2020-10-01 00:00:25.0080</td>\n",
       "      <td>2020-10-01 00:04:18.6410</td>\n",
       "      <td>3141</td>\n",
       "      <td>1 Ave &amp; E 68 St</td>\n",
       "      <td>40.765005</td>\n",
       "      <td>-73.958185</td>\n",
       "      <td>464</td>\n",
       "      <td>E 56 St &amp; 3 Ave</td>\n",
       "      <td>40.759345</td>\n",
       "      <td>-73.967597</td>\n",
       "      <td>36482</td>\n",
       "      <td>Subscriber</td>\n",
       "      <td>1993</td>\n",
       "      <td>1</td>\n",
       "    </tr>\n",
       "    <tr>\n",
       "      <th>4</th>\n",
       "      <td>126</td>\n",
       "      <td>2020-10-01 00:00:25.3100</td>\n",
       "      <td>2020-10-01 00:02:32.1330</td>\n",
       "      <td>335</td>\n",
       "      <td>Washington Pl &amp; Broadway</td>\n",
       "      <td>40.729039</td>\n",
       "      <td>-73.994046</td>\n",
       "      <td>229</td>\n",
       "      <td>Great Jones St</td>\n",
       "      <td>40.727434</td>\n",
       "      <td>-73.993790</td>\n",
       "      <td>45319</td>\n",
       "      <td>Subscriber</td>\n",
       "      <td>1989</td>\n",
       "      <td>1</td>\n",
       "    </tr>\n",
       "  </tbody>\n",
       "</table>\n",
       "</div>"
      ],
      "text/plain": [
       "   tripduration                 starttime                  stoptime  \\\n",
       "0          1403  2020-10-01 00:00:10.7870  2020-10-01 00:23:34.5400   \n",
       "1           462  2020-10-01 00:00:18.2390  2020-10-01 00:08:00.5710   \n",
       "2           770  2020-10-01 00:00:21.3070  2020-10-01 00:13:12.0840   \n",
       "3           233  2020-10-01 00:00:25.0080  2020-10-01 00:04:18.6410   \n",
       "4           126  2020-10-01 00:00:25.3100  2020-10-01 00:02:32.1330   \n",
       "\n",
       "   start station id        start station name  start station latitude  \\\n",
       "0               224     Spruce St & Nassau St               40.711464   \n",
       "1              3161    W 76 St & Columbus Ave               40.780184   \n",
       "2               354   Emerson Pl & Myrtle Ave               40.693631   \n",
       "3              3141           1 Ave & E 68 St               40.765005   \n",
       "4               335  Washington Pl & Broadway               40.729039   \n",
       "\n",
       "   start station longitude  end station id           end station name  \\\n",
       "0               -74.005524            3347  Van Brunt St & Wolcott St   \n",
       "1               -73.977285            3158         W 63 St & Broadway   \n",
       "2               -73.962236            3761      Cedar St & Myrtle Ave   \n",
       "3               -73.958185             464            E 56 St & 3 Ave   \n",
       "4               -73.994046             229             Great Jones St   \n",
       "\n",
       "   end station latitude  end station longitude  bikeid    usertype  \\\n",
       "0             40.677343             -74.012751   39079  Subscriber   \n",
       "1             40.771639             -73.982614   41267  Subscriber   \n",
       "2             40.697842             -73.926241   47398    Customer   \n",
       "3             40.759345             -73.967597   36482  Subscriber   \n",
       "4             40.727434             -73.993790   45319  Subscriber   \n",
       "\n",
       "   birth year  gender  \n",
       "0        1995       1  \n",
       "1        1998       2  \n",
       "2        1996       1  \n",
       "3        1993       1  \n",
       "4        1989       1  "
      ]
     },
     "execution_count": 6,
     "metadata": {},
     "output_type": "execute_result"
    }
   ],
   "source": [
    "citibike.head()"
   ]
  },
  {
   "cell_type": "code",
   "execution_count": 7,
   "metadata": {
    "ExecuteTime": {
     "end_time": "2021-02-20T08:09:13.098349Z",
     "start_time": "2021-02-20T08:09:07.551339Z"
    }
   },
   "outputs": [],
   "source": [
    "citibike[\"starttime\"] = pd.to_datetime(citibike[\"starttime\"])"
   ]
  },
  {
   "cell_type": "code",
   "execution_count": 8,
   "metadata": {
    "ExecuteTime": {
     "end_time": "2021-02-20T08:09:14.855854Z",
     "start_time": "2021-02-20T08:09:13.101344Z"
    }
   },
   "outputs": [],
   "source": [
    "citibike[\"date\"] = citibike[\"starttime\"].dt.date"
   ]
  },
  {
   "cell_type": "code",
   "execution_count": 9,
   "metadata": {
    "ExecuteTime": {
     "end_time": "2021-02-20T08:09:14.874898Z",
     "start_time": "2021-02-20T08:09:14.856870Z"
    }
   },
   "outputs": [
    {
     "data": {
      "text/html": [
       "<div>\n",
       "<style scoped>\n",
       "    .dataframe tbody tr th:only-of-type {\n",
       "        vertical-align: middle;\n",
       "    }\n",
       "\n",
       "    .dataframe tbody tr th {\n",
       "        vertical-align: top;\n",
       "    }\n",
       "\n",
       "    .dataframe thead th {\n",
       "        text-align: right;\n",
       "    }\n",
       "</style>\n",
       "<table border=\"1\" class=\"dataframe\">\n",
       "  <thead>\n",
       "    <tr style=\"text-align: right;\">\n",
       "      <th></th>\n",
       "      <th>tripduration</th>\n",
       "      <th>starttime</th>\n",
       "      <th>stoptime</th>\n",
       "      <th>start station id</th>\n",
       "      <th>start station name</th>\n",
       "      <th>start station latitude</th>\n",
       "      <th>start station longitude</th>\n",
       "      <th>end station id</th>\n",
       "      <th>end station name</th>\n",
       "      <th>end station latitude</th>\n",
       "      <th>end station longitude</th>\n",
       "      <th>bikeid</th>\n",
       "      <th>usertype</th>\n",
       "      <th>birth year</th>\n",
       "      <th>gender</th>\n",
       "      <th>date</th>\n",
       "    </tr>\n",
       "  </thead>\n",
       "  <tbody>\n",
       "    <tr>\n",
       "      <th>0</th>\n",
       "      <td>1403</td>\n",
       "      <td>2020-10-01 00:00:10.787</td>\n",
       "      <td>2020-10-01 00:23:34.5400</td>\n",
       "      <td>224</td>\n",
       "      <td>Spruce St &amp; Nassau St</td>\n",
       "      <td>40.711464</td>\n",
       "      <td>-74.005524</td>\n",
       "      <td>3347</td>\n",
       "      <td>Van Brunt St &amp; Wolcott St</td>\n",
       "      <td>40.677343</td>\n",
       "      <td>-74.012751</td>\n",
       "      <td>39079</td>\n",
       "      <td>Subscriber</td>\n",
       "      <td>1995</td>\n",
       "      <td>1</td>\n",
       "      <td>2020-10-01</td>\n",
       "    </tr>\n",
       "    <tr>\n",
       "      <th>1</th>\n",
       "      <td>462</td>\n",
       "      <td>2020-10-01 00:00:18.239</td>\n",
       "      <td>2020-10-01 00:08:00.5710</td>\n",
       "      <td>3161</td>\n",
       "      <td>W 76 St &amp; Columbus Ave</td>\n",
       "      <td>40.780184</td>\n",
       "      <td>-73.977285</td>\n",
       "      <td>3158</td>\n",
       "      <td>W 63 St &amp; Broadway</td>\n",
       "      <td>40.771639</td>\n",
       "      <td>-73.982614</td>\n",
       "      <td>41267</td>\n",
       "      <td>Subscriber</td>\n",
       "      <td>1998</td>\n",
       "      <td>2</td>\n",
       "      <td>2020-10-01</td>\n",
       "    </tr>\n",
       "    <tr>\n",
       "      <th>2</th>\n",
       "      <td>770</td>\n",
       "      <td>2020-10-01 00:00:21.307</td>\n",
       "      <td>2020-10-01 00:13:12.0840</td>\n",
       "      <td>354</td>\n",
       "      <td>Emerson Pl &amp; Myrtle Ave</td>\n",
       "      <td>40.693631</td>\n",
       "      <td>-73.962236</td>\n",
       "      <td>3761</td>\n",
       "      <td>Cedar St &amp; Myrtle Ave</td>\n",
       "      <td>40.697842</td>\n",
       "      <td>-73.926241</td>\n",
       "      <td>47398</td>\n",
       "      <td>Customer</td>\n",
       "      <td>1996</td>\n",
       "      <td>1</td>\n",
       "      <td>2020-10-01</td>\n",
       "    </tr>\n",
       "    <tr>\n",
       "      <th>3</th>\n",
       "      <td>233</td>\n",
       "      <td>2020-10-01 00:00:25.008</td>\n",
       "      <td>2020-10-01 00:04:18.6410</td>\n",
       "      <td>3141</td>\n",
       "      <td>1 Ave &amp; E 68 St</td>\n",
       "      <td>40.765005</td>\n",
       "      <td>-73.958185</td>\n",
       "      <td>464</td>\n",
       "      <td>E 56 St &amp; 3 Ave</td>\n",
       "      <td>40.759345</td>\n",
       "      <td>-73.967597</td>\n",
       "      <td>36482</td>\n",
       "      <td>Subscriber</td>\n",
       "      <td>1993</td>\n",
       "      <td>1</td>\n",
       "      <td>2020-10-01</td>\n",
       "    </tr>\n",
       "    <tr>\n",
       "      <th>4</th>\n",
       "      <td>126</td>\n",
       "      <td>2020-10-01 00:00:25.310</td>\n",
       "      <td>2020-10-01 00:02:32.1330</td>\n",
       "      <td>335</td>\n",
       "      <td>Washington Pl &amp; Broadway</td>\n",
       "      <td>40.729039</td>\n",
       "      <td>-73.994046</td>\n",
       "      <td>229</td>\n",
       "      <td>Great Jones St</td>\n",
       "      <td>40.727434</td>\n",
       "      <td>-73.993790</td>\n",
       "      <td>45319</td>\n",
       "      <td>Subscriber</td>\n",
       "      <td>1989</td>\n",
       "      <td>1</td>\n",
       "      <td>2020-10-01</td>\n",
       "    </tr>\n",
       "  </tbody>\n",
       "</table>\n",
       "</div>"
      ],
      "text/plain": [
       "   tripduration               starttime                  stoptime  \\\n",
       "0          1403 2020-10-01 00:00:10.787  2020-10-01 00:23:34.5400   \n",
       "1           462 2020-10-01 00:00:18.239  2020-10-01 00:08:00.5710   \n",
       "2           770 2020-10-01 00:00:21.307  2020-10-01 00:13:12.0840   \n",
       "3           233 2020-10-01 00:00:25.008  2020-10-01 00:04:18.6410   \n",
       "4           126 2020-10-01 00:00:25.310  2020-10-01 00:02:32.1330   \n",
       "\n",
       "   start station id        start station name  start station latitude  \\\n",
       "0               224     Spruce St & Nassau St               40.711464   \n",
       "1              3161    W 76 St & Columbus Ave               40.780184   \n",
       "2               354   Emerson Pl & Myrtle Ave               40.693631   \n",
       "3              3141           1 Ave & E 68 St               40.765005   \n",
       "4               335  Washington Pl & Broadway               40.729039   \n",
       "\n",
       "   start station longitude  end station id           end station name  \\\n",
       "0               -74.005524            3347  Van Brunt St & Wolcott St   \n",
       "1               -73.977285            3158         W 63 St & Broadway   \n",
       "2               -73.962236            3761      Cedar St & Myrtle Ave   \n",
       "3               -73.958185             464            E 56 St & 3 Ave   \n",
       "4               -73.994046             229             Great Jones St   \n",
       "\n",
       "   end station latitude  end station longitude  bikeid    usertype  \\\n",
       "0             40.677343             -74.012751   39079  Subscriber   \n",
       "1             40.771639             -73.982614   41267  Subscriber   \n",
       "2             40.697842             -73.926241   47398    Customer   \n",
       "3             40.759345             -73.967597   36482  Subscriber   \n",
       "4             40.727434             -73.993790   45319  Subscriber   \n",
       "\n",
       "   birth year  gender        date  \n",
       "0        1995       1  2020-10-01  \n",
       "1        1998       2  2020-10-01  \n",
       "2        1996       1  2020-10-01  \n",
       "3        1993       1  2020-10-01  \n",
       "4        1989       1  2020-10-01  "
      ]
     },
     "execution_count": 9,
     "metadata": {},
     "output_type": "execute_result"
    }
   ],
   "source": [
    "citibike.head()"
   ]
  },
  {
   "cell_type": "code",
   "execution_count": 10,
   "metadata": {
    "ExecuteTime": {
     "end_time": "2021-02-20T08:09:16.800146Z",
     "start_time": "2021-02-20T08:09:14.876936Z"
    }
   },
   "outputs": [],
   "source": [
    "citibike_by_date = citibike.groupby([citibike['date']]).starttime.count()"
   ]
  },
  {
   "cell_type": "code",
   "execution_count": 11,
   "metadata": {
    "ExecuteTime": {
     "end_time": "2021-02-20T08:09:16.805111Z",
     "start_time": "2021-02-20T08:09:16.801165Z"
    }
   },
   "outputs": [],
   "source": [
    "citibike_by_date = pd.DataFrame(citibike_by_date)"
   ]
  },
  {
   "cell_type": "code",
   "execution_count": 12,
   "metadata": {
    "ExecuteTime": {
     "end_time": "2021-02-20T08:09:16.822131Z",
     "start_time": "2021-02-20T08:09:16.807107Z"
    }
   },
   "outputs": [
    {
     "data": {
      "text/html": [
       "<div>\n",
       "<style scoped>\n",
       "    .dataframe tbody tr th:only-of-type {\n",
       "        vertical-align: middle;\n",
       "    }\n",
       "\n",
       "    .dataframe tbody tr th {\n",
       "        vertical-align: top;\n",
       "    }\n",
       "\n",
       "    .dataframe thead th {\n",
       "        text-align: right;\n",
       "    }\n",
       "</style>\n",
       "<table border=\"1\" class=\"dataframe\">\n",
       "  <thead>\n",
       "    <tr style=\"text-align: right;\">\n",
       "      <th></th>\n",
       "      <th>starttime</th>\n",
       "    </tr>\n",
       "    <tr>\n",
       "      <th>date</th>\n",
       "      <th></th>\n",
       "    </tr>\n",
       "  </thead>\n",
       "  <tbody>\n",
       "    <tr>\n",
       "      <th>2020-10-01</th>\n",
       "      <td>89718</td>\n",
       "    </tr>\n",
       "    <tr>\n",
       "      <th>2020-10-02</th>\n",
       "      <td>81001</td>\n",
       "    </tr>\n",
       "    <tr>\n",
       "      <th>2020-10-03</th>\n",
       "      <td>95562</td>\n",
       "    </tr>\n",
       "    <tr>\n",
       "      <th>2020-10-04</th>\n",
       "      <td>80662</td>\n",
       "    </tr>\n",
       "    <tr>\n",
       "      <th>2020-10-05</th>\n",
       "      <td>75795</td>\n",
       "    </tr>\n",
       "  </tbody>\n",
       "</table>\n",
       "</div>"
      ],
      "text/plain": [
       "            starttime\n",
       "date                 \n",
       "2020-10-01      89718\n",
       "2020-10-02      81001\n",
       "2020-10-03      95562\n",
       "2020-10-04      80662\n",
       "2020-10-05      75795"
      ]
     },
     "execution_count": 12,
     "metadata": {},
     "output_type": "execute_result"
    }
   ],
   "source": [
    "citibike_by_date.head()"
   ]
  },
  {
   "cell_type": "code",
   "execution_count": 13,
   "metadata": {
    "ExecuteTime": {
     "end_time": "2021-02-20T08:09:16.830742Z",
     "start_time": "2021-02-20T08:09:16.824109Z"
    }
   },
   "outputs": [],
   "source": [
    "citibike_by_date=citibike_by_date.rename(columns={\"date\": \"date\", \"starttime\": \"no_of_trip\"})"
   ]
  },
  {
   "cell_type": "code",
   "execution_count": 14,
   "metadata": {
    "ExecuteTime": {
     "end_time": "2021-02-20T08:09:16.846479Z",
     "start_time": "2021-02-20T08:09:16.833225Z"
    }
   },
   "outputs": [
    {
     "data": {
      "text/html": [
       "<div>\n",
       "<style scoped>\n",
       "    .dataframe tbody tr th:only-of-type {\n",
       "        vertical-align: middle;\n",
       "    }\n",
       "\n",
       "    .dataframe tbody tr th {\n",
       "        vertical-align: top;\n",
       "    }\n",
       "\n",
       "    .dataframe thead th {\n",
       "        text-align: right;\n",
       "    }\n",
       "</style>\n",
       "<table border=\"1\" class=\"dataframe\">\n",
       "  <thead>\n",
       "    <tr style=\"text-align: right;\">\n",
       "      <th></th>\n",
       "      <th>no_of_trip</th>\n",
       "    </tr>\n",
       "    <tr>\n",
       "      <th>date</th>\n",
       "      <th></th>\n",
       "    </tr>\n",
       "  </thead>\n",
       "  <tbody>\n",
       "    <tr>\n",
       "      <th>2020-10-01</th>\n",
       "      <td>89718</td>\n",
       "    </tr>\n",
       "    <tr>\n",
       "      <th>2020-10-02</th>\n",
       "      <td>81001</td>\n",
       "    </tr>\n",
       "    <tr>\n",
       "      <th>2020-10-03</th>\n",
       "      <td>95562</td>\n",
       "    </tr>\n",
       "    <tr>\n",
       "      <th>2020-10-04</th>\n",
       "      <td>80662</td>\n",
       "    </tr>\n",
       "    <tr>\n",
       "      <th>2020-10-05</th>\n",
       "      <td>75795</td>\n",
       "    </tr>\n",
       "  </tbody>\n",
       "</table>\n",
       "</div>"
      ],
      "text/plain": [
       "            no_of_trip\n",
       "date                  \n",
       "2020-10-01       89718\n",
       "2020-10-02       81001\n",
       "2020-10-03       95562\n",
       "2020-10-04       80662\n",
       "2020-10-05       75795"
      ]
     },
     "execution_count": 14,
     "metadata": {},
     "output_type": "execute_result"
    }
   ],
   "source": [
    "citibike_by_date.head()"
   ]
  },
  {
   "cell_type": "code",
   "execution_count": 15,
   "metadata": {
    "ExecuteTime": {
     "end_time": "2021-02-20T08:09:16.864283Z",
     "start_time": "2021-02-20T08:09:16.848590Z"
    }
   },
   "outputs": [
    {
     "data": {
      "text/html": [
       "<div>\n",
       "<style scoped>\n",
       "    .dataframe tbody tr th:only-of-type {\n",
       "        vertical-align: middle;\n",
       "    }\n",
       "\n",
       "    .dataframe tbody tr th {\n",
       "        vertical-align: top;\n",
       "    }\n",
       "\n",
       "    .dataframe thead th {\n",
       "        text-align: right;\n",
       "    }\n",
       "</style>\n",
       "<table border=\"1\" class=\"dataframe\">\n",
       "  <thead>\n",
       "    <tr style=\"text-align: right;\">\n",
       "      <th></th>\n",
       "      <th>Date</th>\n",
       "      <th>Confirmed Cases</th>\n",
       "      <th>cases_per_day</th>\n",
       "      <th>Deaths</th>\n",
       "      <th>Deaths per day</th>\n",
       "    </tr>\n",
       "  </thead>\n",
       "  <tbody>\n",
       "    <tr>\n",
       "      <th>0</th>\n",
       "      <td>01/10/2020</td>\n",
       "      <td>241979</td>\n",
       "      <td>615</td>\n",
       "      <td>55010</td>\n",
       "      <td>40</td>\n",
       "    </tr>\n",
       "    <tr>\n",
       "      <th>1</th>\n",
       "      <td>02/10/2020</td>\n",
       "      <td>242575</td>\n",
       "      <td>596</td>\n",
       "      <td>55058</td>\n",
       "      <td>48</td>\n",
       "    </tr>\n",
       "    <tr>\n",
       "      <th>2</th>\n",
       "      <td>03/10/2020</td>\n",
       "      <td>242851</td>\n",
       "      <td>276</td>\n",
       "      <td>55083</td>\n",
       "      <td>25</td>\n",
       "    </tr>\n",
       "    <tr>\n",
       "      <th>3</th>\n",
       "      <td>04/10/2020</td>\n",
       "      <td>243187</td>\n",
       "      <td>336</td>\n",
       "      <td>55127</td>\n",
       "      <td>44</td>\n",
       "    </tr>\n",
       "    <tr>\n",
       "      <th>4</th>\n",
       "      <td>05/10/2020</td>\n",
       "      <td>243951</td>\n",
       "      <td>764</td>\n",
       "      <td>55183</td>\n",
       "      <td>56</td>\n",
       "    </tr>\n",
       "  </tbody>\n",
       "</table>\n",
       "</div>"
      ],
      "text/plain": [
       "         Date  Confirmed Cases  cases_per_day  Deaths  Deaths per day\n",
       "0  01/10/2020           241979            615   55010              40\n",
       "1  02/10/2020           242575            596   55058              48\n",
       "2  03/10/2020           242851            276   55083              25\n",
       "3  04/10/2020           243187            336   55127              44\n",
       "4  05/10/2020           243951            764   55183              56"
      ]
     },
     "execution_count": 15,
     "metadata": {},
     "output_type": "execute_result"
    }
   ],
   "source": [
    "df_covid.head()"
   ]
  },
  {
   "cell_type": "code",
   "execution_count": 16,
   "metadata": {
    "ExecuteTime": {
     "end_time": "2021-02-20T08:09:16.875605Z",
     "start_time": "2021-02-20T08:09:16.868386Z"
    }
   },
   "outputs": [],
   "source": [
    "df_covid[\"Date\"] = pd.to_datetime(df_covid[\"Date\"], format='%d/%m/%Y')"
   ]
  },
  {
   "cell_type": "code",
   "execution_count": 17,
   "metadata": {
    "ExecuteTime": {
     "end_time": "2021-02-20T08:09:16.886949Z",
     "start_time": "2021-02-20T08:09:16.878987Z"
    }
   },
   "outputs": [],
   "source": [
    "df_covid[\"date\"] = df_covid[\"Date\"].dt.date"
   ]
  },
  {
   "cell_type": "code",
   "execution_count": 18,
   "metadata": {
    "ExecuteTime": {
     "end_time": "2021-02-20T08:09:16.912796Z",
     "start_time": "2021-02-20T08:09:16.888950Z"
    }
   },
   "outputs": [
    {
     "data": {
      "text/html": [
       "<div>\n",
       "<style scoped>\n",
       "    .dataframe tbody tr th:only-of-type {\n",
       "        vertical-align: middle;\n",
       "    }\n",
       "\n",
       "    .dataframe tbody tr th {\n",
       "        vertical-align: top;\n",
       "    }\n",
       "\n",
       "    .dataframe thead th {\n",
       "        text-align: right;\n",
       "    }\n",
       "</style>\n",
       "<table border=\"1\" class=\"dataframe\">\n",
       "  <thead>\n",
       "    <tr style=\"text-align: right;\">\n",
       "      <th></th>\n",
       "      <th>Date</th>\n",
       "      <th>Confirmed Cases</th>\n",
       "      <th>cases_per_day</th>\n",
       "      <th>Deaths</th>\n",
       "      <th>Deaths per day</th>\n",
       "      <th>date</th>\n",
       "    </tr>\n",
       "  </thead>\n",
       "  <tbody>\n",
       "    <tr>\n",
       "      <th>0</th>\n",
       "      <td>2020-10-01</td>\n",
       "      <td>241979</td>\n",
       "      <td>615</td>\n",
       "      <td>55010</td>\n",
       "      <td>40</td>\n",
       "      <td>2020-10-01</td>\n",
       "    </tr>\n",
       "    <tr>\n",
       "      <th>1</th>\n",
       "      <td>2020-10-02</td>\n",
       "      <td>242575</td>\n",
       "      <td>596</td>\n",
       "      <td>55058</td>\n",
       "      <td>48</td>\n",
       "      <td>2020-10-02</td>\n",
       "    </tr>\n",
       "    <tr>\n",
       "      <th>2</th>\n",
       "      <td>2020-10-03</td>\n",
       "      <td>242851</td>\n",
       "      <td>276</td>\n",
       "      <td>55083</td>\n",
       "      <td>25</td>\n",
       "      <td>2020-10-03</td>\n",
       "    </tr>\n",
       "    <tr>\n",
       "      <th>3</th>\n",
       "      <td>2020-10-04</td>\n",
       "      <td>243187</td>\n",
       "      <td>336</td>\n",
       "      <td>55127</td>\n",
       "      <td>44</td>\n",
       "      <td>2020-10-04</td>\n",
       "    </tr>\n",
       "    <tr>\n",
       "      <th>4</th>\n",
       "      <td>2020-10-05</td>\n",
       "      <td>243951</td>\n",
       "      <td>764</td>\n",
       "      <td>55183</td>\n",
       "      <td>56</td>\n",
       "      <td>2020-10-05</td>\n",
       "    </tr>\n",
       "  </tbody>\n",
       "</table>\n",
       "</div>"
      ],
      "text/plain": [
       "        Date  Confirmed Cases  cases_per_day  Deaths  Deaths per day  \\\n",
       "0 2020-10-01           241979            615   55010              40   \n",
       "1 2020-10-02           242575            596   55058              48   \n",
       "2 2020-10-03           242851            276   55083              25   \n",
       "3 2020-10-04           243187            336   55127              44   \n",
       "4 2020-10-05           243951            764   55183              56   \n",
       "\n",
       "         date  \n",
       "0  2020-10-01  \n",
       "1  2020-10-02  \n",
       "2  2020-10-03  \n",
       "3  2020-10-04  \n",
       "4  2020-10-05  "
      ]
     },
     "execution_count": 18,
     "metadata": {},
     "output_type": "execute_result"
    }
   ],
   "source": [
    "df_covid.head()"
   ]
  },
  {
   "cell_type": "code",
   "execution_count": 19,
   "metadata": {
    "ExecuteTime": {
     "end_time": "2021-02-20T08:09:16.923868Z",
     "start_time": "2021-02-20T08:09:16.915807Z"
    }
   },
   "outputs": [],
   "source": [
    "covid_df_by_date = df_covid[[\"date\",\"cases_per_day\"]]"
   ]
  },
  {
   "cell_type": "code",
   "execution_count": 20,
   "metadata": {
    "ExecuteTime": {
     "end_time": "2021-02-20T08:09:16.942502Z",
     "start_time": "2021-02-20T08:09:16.931182Z"
    }
   },
   "outputs": [
    {
     "data": {
      "text/html": [
       "<div>\n",
       "<style scoped>\n",
       "    .dataframe tbody tr th:only-of-type {\n",
       "        vertical-align: middle;\n",
       "    }\n",
       "\n",
       "    .dataframe tbody tr th {\n",
       "        vertical-align: top;\n",
       "    }\n",
       "\n",
       "    .dataframe thead th {\n",
       "        text-align: right;\n",
       "    }\n",
       "</style>\n",
       "<table border=\"1\" class=\"dataframe\">\n",
       "  <thead>\n",
       "    <tr style=\"text-align: right;\">\n",
       "      <th></th>\n",
       "      <th>date</th>\n",
       "      <th>cases_per_day</th>\n",
       "    </tr>\n",
       "  </thead>\n",
       "  <tbody>\n",
       "    <tr>\n",
       "      <th>0</th>\n",
       "      <td>2020-10-01</td>\n",
       "      <td>615</td>\n",
       "    </tr>\n",
       "    <tr>\n",
       "      <th>1</th>\n",
       "      <td>2020-10-02</td>\n",
       "      <td>596</td>\n",
       "    </tr>\n",
       "    <tr>\n",
       "      <th>2</th>\n",
       "      <td>2020-10-03</td>\n",
       "      <td>276</td>\n",
       "    </tr>\n",
       "    <tr>\n",
       "      <th>3</th>\n",
       "      <td>2020-10-04</td>\n",
       "      <td>336</td>\n",
       "    </tr>\n",
       "    <tr>\n",
       "      <th>4</th>\n",
       "      <td>2020-10-05</td>\n",
       "      <td>764</td>\n",
       "    </tr>\n",
       "  </tbody>\n",
       "</table>\n",
       "</div>"
      ],
      "text/plain": [
       "         date  cases_per_day\n",
       "0  2020-10-01            615\n",
       "1  2020-10-02            596\n",
       "2  2020-10-03            276\n",
       "3  2020-10-04            336\n",
       "4  2020-10-05            764"
      ]
     },
     "execution_count": 20,
     "metadata": {},
     "output_type": "execute_result"
    }
   ],
   "source": [
    "covid_df_by_date.head()"
   ]
  },
  {
   "cell_type": "code",
   "execution_count": 21,
   "metadata": {
    "ExecuteTime": {
     "end_time": "2021-02-20T08:09:16.952570Z",
     "start_time": "2021-02-20T08:09:16.944524Z"
    }
   },
   "outputs": [],
   "source": [
    "citibike_covid_df = covid_df_by_date.merge(citibike_by_date, how=\"inner\", on =\"date\")"
   ]
  },
  {
   "cell_type": "code",
   "execution_count": 22,
   "metadata": {
    "ExecuteTime": {
     "end_time": "2021-02-20T08:09:16.974211Z",
     "start_time": "2021-02-20T08:09:16.955014Z"
    }
   },
   "outputs": [
    {
     "data": {
      "text/html": [
       "<div>\n",
       "<style scoped>\n",
       "    .dataframe tbody tr th:only-of-type {\n",
       "        vertical-align: middle;\n",
       "    }\n",
       "\n",
       "    .dataframe tbody tr th {\n",
       "        vertical-align: top;\n",
       "    }\n",
       "\n",
       "    .dataframe thead th {\n",
       "        text-align: right;\n",
       "    }\n",
       "</style>\n",
       "<table border=\"1\" class=\"dataframe\">\n",
       "  <thead>\n",
       "    <tr style=\"text-align: right;\">\n",
       "      <th></th>\n",
       "      <th>date</th>\n",
       "      <th>cases_per_day</th>\n",
       "      <th>no_of_trip</th>\n",
       "    </tr>\n",
       "  </thead>\n",
       "  <tbody>\n",
       "    <tr>\n",
       "      <th>0</th>\n",
       "      <td>2020-10-01</td>\n",
       "      <td>615</td>\n",
       "      <td>89718</td>\n",
       "    </tr>\n",
       "    <tr>\n",
       "      <th>1</th>\n",
       "      <td>2020-10-02</td>\n",
       "      <td>596</td>\n",
       "      <td>81001</td>\n",
       "    </tr>\n",
       "    <tr>\n",
       "      <th>2</th>\n",
       "      <td>2020-10-03</td>\n",
       "      <td>276</td>\n",
       "      <td>95562</td>\n",
       "    </tr>\n",
       "    <tr>\n",
       "      <th>3</th>\n",
       "      <td>2020-10-04</td>\n",
       "      <td>336</td>\n",
       "      <td>80662</td>\n",
       "    </tr>\n",
       "    <tr>\n",
       "      <th>4</th>\n",
       "      <td>2020-10-05</td>\n",
       "      <td>764</td>\n",
       "      <td>75795</td>\n",
       "    </tr>\n",
       "    <tr>\n",
       "      <th>...</th>\n",
       "      <td>...</td>\n",
       "      <td>...</td>\n",
       "      <td>...</td>\n",
       "    </tr>\n",
       "    <tr>\n",
       "      <th>118</th>\n",
       "      <td>2021-01-27</td>\n",
       "      <td>4600</td>\n",
       "      <td>38982</td>\n",
       "    </tr>\n",
       "    <tr>\n",
       "      <th>119</th>\n",
       "      <td>2021-01-28</td>\n",
       "      <td>4467</td>\n",
       "      <td>34137</td>\n",
       "    </tr>\n",
       "    <tr>\n",
       "      <th>120</th>\n",
       "      <td>2021-01-29</td>\n",
       "      <td>3519</td>\n",
       "      <td>23566</td>\n",
       "    </tr>\n",
       "    <tr>\n",
       "      <th>121</th>\n",
       "      <td>2021-01-30</td>\n",
       "      <td>2715</td>\n",
       "      <td>27330</td>\n",
       "    </tr>\n",
       "    <tr>\n",
       "      <th>122</th>\n",
       "      <td>2021-01-31</td>\n",
       "      <td>2722</td>\n",
       "      <td>21723</td>\n",
       "    </tr>\n",
       "  </tbody>\n",
       "</table>\n",
       "<p>123 rows × 3 columns</p>\n",
       "</div>"
      ],
      "text/plain": [
       "           date  cases_per_day  no_of_trip\n",
       "0    2020-10-01            615       89718\n",
       "1    2020-10-02            596       81001\n",
       "2    2020-10-03            276       95562\n",
       "3    2020-10-04            336       80662\n",
       "4    2020-10-05            764       75795\n",
       "..          ...            ...         ...\n",
       "118  2021-01-27           4600       38982\n",
       "119  2021-01-28           4467       34137\n",
       "120  2021-01-29           3519       23566\n",
       "121  2021-01-30           2715       27330\n",
       "122  2021-01-31           2722       21723\n",
       "\n",
       "[123 rows x 3 columns]"
      ]
     },
     "execution_count": 22,
     "metadata": {},
     "output_type": "execute_result"
    }
   ],
   "source": [
    "citibike_covid_df "
   ]
  },
  {
   "cell_type": "code",
   "execution_count": 23,
   "metadata": {
    "ExecuteTime": {
     "end_time": "2021-02-20T08:09:17.022628Z",
     "start_time": "2021-02-20T08:09:16.976503Z"
    }
   },
   "outputs": [
    {
     "data": {
      "text/html": [
       "<div>\n",
       "<style scoped>\n",
       "    .dataframe tbody tr th:only-of-type {\n",
       "        vertical-align: middle;\n",
       "    }\n",
       "\n",
       "    .dataframe tbody tr th {\n",
       "        vertical-align: top;\n",
       "    }\n",
       "\n",
       "    .dataframe thead th {\n",
       "        text-align: right;\n",
       "    }\n",
       "</style>\n",
       "<table border=\"1\" class=\"dataframe\">\n",
       "  <thead>\n",
       "    <tr style=\"text-align: right;\">\n",
       "      <th></th>\n",
       "      <th>date</th>\n",
       "      <th>cases_per_day</th>\n",
       "      <th>no_of_trip</th>\n",
       "      <th>last_seven_days_cases</th>\n",
       "      <th>last_seven_days_no_of_trip</th>\n",
       "    </tr>\n",
       "  </thead>\n",
       "  <tbody>\n",
       "    <tr>\n",
       "      <th>0</th>\n",
       "      <td>2020-10-01</td>\n",
       "      <td>615</td>\n",
       "      <td>89718</td>\n",
       "      <td>615.000000</td>\n",
       "      <td>89718.000000</td>\n",
       "    </tr>\n",
       "    <tr>\n",
       "      <th>1</th>\n",
       "      <td>2020-10-02</td>\n",
       "      <td>596</td>\n",
       "      <td>81001</td>\n",
       "      <td>605.500000</td>\n",
       "      <td>85359.500000</td>\n",
       "    </tr>\n",
       "    <tr>\n",
       "      <th>2</th>\n",
       "      <td>2020-10-03</td>\n",
       "      <td>276</td>\n",
       "      <td>95562</td>\n",
       "      <td>495.666667</td>\n",
       "      <td>88760.333333</td>\n",
       "    </tr>\n",
       "    <tr>\n",
       "      <th>3</th>\n",
       "      <td>2020-10-04</td>\n",
       "      <td>336</td>\n",
       "      <td>80662</td>\n",
       "      <td>455.750000</td>\n",
       "      <td>86735.750000</td>\n",
       "    </tr>\n",
       "    <tr>\n",
       "      <th>4</th>\n",
       "      <td>2020-10-05</td>\n",
       "      <td>764</td>\n",
       "      <td>75795</td>\n",
       "      <td>517.400000</td>\n",
       "      <td>84547.600000</td>\n",
       "    </tr>\n",
       "    <tr>\n",
       "      <th>5</th>\n",
       "      <td>2020-10-06</td>\n",
       "      <td>566</td>\n",
       "      <td>85634</td>\n",
       "      <td>525.500000</td>\n",
       "      <td>84728.666667</td>\n",
       "    </tr>\n",
       "    <tr>\n",
       "      <th>6</th>\n",
       "      <td>2020-10-07</td>\n",
       "      <td>542</td>\n",
       "      <td>81263</td>\n",
       "      <td>527.857143</td>\n",
       "      <td>84233.571429</td>\n",
       "    </tr>\n",
       "    <tr>\n",
       "      <th>7</th>\n",
       "      <td>2020-10-08</td>\n",
       "      <td>522</td>\n",
       "      <td>83990</td>\n",
       "      <td>514.571429</td>\n",
       "      <td>83415.285714</td>\n",
       "    </tr>\n",
       "    <tr>\n",
       "      <th>8</th>\n",
       "      <td>2020-10-09</td>\n",
       "      <td>524</td>\n",
       "      <td>87644</td>\n",
       "      <td>504.285714</td>\n",
       "      <td>84364.285714</td>\n",
       "    </tr>\n",
       "    <tr>\n",
       "      <th>9</th>\n",
       "      <td>2020-10-10</td>\n",
       "      <td>312</td>\n",
       "      <td>93919</td>\n",
       "      <td>509.428571</td>\n",
       "      <td>84129.571429</td>\n",
       "    </tr>\n",
       "    <tr>\n",
       "      <th>10</th>\n",
       "      <td>2020-10-11</td>\n",
       "      <td>281</td>\n",
       "      <td>75426</td>\n",
       "      <td>501.571429</td>\n",
       "      <td>83381.571429</td>\n",
       "    </tr>\n",
       "    <tr>\n",
       "      <th>11</th>\n",
       "      <td>2020-10-12</td>\n",
       "      <td>514</td>\n",
       "      <td>16405</td>\n",
       "      <td>465.857143</td>\n",
       "      <td>74897.285714</td>\n",
       "    </tr>\n",
       "    <tr>\n",
       "      <th>12</th>\n",
       "      <td>2020-10-13</td>\n",
       "      <td>588</td>\n",
       "      <td>51885</td>\n",
       "      <td>469.000000</td>\n",
       "      <td>70076.000000</td>\n",
       "    </tr>\n",
       "    <tr>\n",
       "      <th>13</th>\n",
       "      <td>2020-10-14</td>\n",
       "      <td>577</td>\n",
       "      <td>88404</td>\n",
       "      <td>474.000000</td>\n",
       "      <td>71096.142857</td>\n",
       "    </tr>\n",
       "  </tbody>\n",
       "</table>\n",
       "</div>"
      ],
      "text/plain": [
       "          date  cases_per_day  no_of_trip  last_seven_days_cases  \\\n",
       "0   2020-10-01            615       89718             615.000000   \n",
       "1   2020-10-02            596       81001             605.500000   \n",
       "2   2020-10-03            276       95562             495.666667   \n",
       "3   2020-10-04            336       80662             455.750000   \n",
       "4   2020-10-05            764       75795             517.400000   \n",
       "5   2020-10-06            566       85634             525.500000   \n",
       "6   2020-10-07            542       81263             527.857143   \n",
       "7   2020-10-08            522       83990             514.571429   \n",
       "8   2020-10-09            524       87644             504.285714   \n",
       "9   2020-10-10            312       93919             509.428571   \n",
       "10  2020-10-11            281       75426             501.571429   \n",
       "11  2020-10-12            514       16405             465.857143   \n",
       "12  2020-10-13            588       51885             469.000000   \n",
       "13  2020-10-14            577       88404             474.000000   \n",
       "\n",
       "    last_seven_days_no_of_trip  \n",
       "0                 89718.000000  \n",
       "1                 85359.500000  \n",
       "2                 88760.333333  \n",
       "3                 86735.750000  \n",
       "4                 84547.600000  \n",
       "5                 84728.666667  \n",
       "6                 84233.571429  \n",
       "7                 83415.285714  \n",
       "8                 84364.285714  \n",
       "9                 84129.571429  \n",
       "10                83381.571429  \n",
       "11                74897.285714  \n",
       "12                70076.000000  \n",
       "13                71096.142857  "
      ]
     },
     "execution_count": 23,
     "metadata": {},
     "output_type": "execute_result"
    }
   ],
   "source": [
    "citibike_covid_df = citibike_covid_df.sort_values('date')\n",
    "seven_days = pd.Timedelta(days=7)\n",
    "seven_days_date = (citibike_covid_df[\"date\"] + seven_days)\n",
    "citibike_covid_df[\"last_seven_days_cases\"] = citibike_covid_df['cases_per_day'].rolling(min_periods=0, window=7).mean()\n",
    "citibike_covid_df[\"last_seven_days_no_of_trip\"] = citibike_covid_df['no_of_trip'].rolling(min_periods=0, window=7).mean()\n",
    "citibike_covid_df.head(14)"
   ]
  },
  {
   "cell_type": "code",
   "execution_count": 24,
   "metadata": {
    "ExecuteTime": {
     "end_time": "2021-02-20T08:09:17.037729Z",
     "start_time": "2021-02-20T08:09:17.025675Z"
    }
   },
   "outputs": [],
   "source": [
    "citibike_covid_df[\"date\"] = pd.to_datetime(citibike_covid_df[\"date\"] , format='%Y-%m-%d')"
   ]
  },
  {
   "cell_type": "code",
   "execution_count": 25,
   "metadata": {
    "ExecuteTime": {
     "end_time": "2021-02-20T08:09:17.049738Z",
     "start_time": "2021-02-20T08:09:17.042157Z"
    }
   },
   "outputs": [],
   "source": [
    "citibike_covid_df[\"date\"] = citibike_covid_df[\"date\"].dt.date"
   ]
  },
  {
   "cell_type": "code",
   "execution_count": 26,
   "metadata": {
    "ExecuteTime": {
     "end_time": "2021-02-20T08:09:17.069941Z",
     "start_time": "2021-02-20T08:09:17.055937Z"
    }
   },
   "outputs": [
    {
     "data": {
      "text/html": [
       "<div>\n",
       "<style scoped>\n",
       "    .dataframe tbody tr th:only-of-type {\n",
       "        vertical-align: middle;\n",
       "    }\n",
       "\n",
       "    .dataframe tbody tr th {\n",
       "        vertical-align: top;\n",
       "    }\n",
       "\n",
       "    .dataframe thead th {\n",
       "        text-align: right;\n",
       "    }\n",
       "</style>\n",
       "<table border=\"1\" class=\"dataframe\">\n",
       "  <thead>\n",
       "    <tr style=\"text-align: right;\">\n",
       "      <th></th>\n",
       "      <th>date</th>\n",
       "      <th>cases_per_day</th>\n",
       "      <th>no_of_trip</th>\n",
       "      <th>last_seven_days_cases</th>\n",
       "      <th>last_seven_days_no_of_trip</th>\n",
       "    </tr>\n",
       "  </thead>\n",
       "  <tbody>\n",
       "    <tr>\n",
       "      <th>0</th>\n",
       "      <td>2020-10-01</td>\n",
       "      <td>615</td>\n",
       "      <td>89718</td>\n",
       "      <td>615.000000</td>\n",
       "      <td>89718.000000</td>\n",
       "    </tr>\n",
       "    <tr>\n",
       "      <th>1</th>\n",
       "      <td>2020-10-02</td>\n",
       "      <td>596</td>\n",
       "      <td>81001</td>\n",
       "      <td>605.500000</td>\n",
       "      <td>85359.500000</td>\n",
       "    </tr>\n",
       "    <tr>\n",
       "      <th>2</th>\n",
       "      <td>2020-10-03</td>\n",
       "      <td>276</td>\n",
       "      <td>95562</td>\n",
       "      <td>495.666667</td>\n",
       "      <td>88760.333333</td>\n",
       "    </tr>\n",
       "    <tr>\n",
       "      <th>3</th>\n",
       "      <td>2020-10-04</td>\n",
       "      <td>336</td>\n",
       "      <td>80662</td>\n",
       "      <td>455.750000</td>\n",
       "      <td>86735.750000</td>\n",
       "    </tr>\n",
       "    <tr>\n",
       "      <th>4</th>\n",
       "      <td>2020-10-05</td>\n",
       "      <td>764</td>\n",
       "      <td>75795</td>\n",
       "      <td>517.400000</td>\n",
       "      <td>84547.600000</td>\n",
       "    </tr>\n",
       "    <tr>\n",
       "      <th>5</th>\n",
       "      <td>2020-10-06</td>\n",
       "      <td>566</td>\n",
       "      <td>85634</td>\n",
       "      <td>525.500000</td>\n",
       "      <td>84728.666667</td>\n",
       "    </tr>\n",
       "    <tr>\n",
       "      <th>6</th>\n",
       "      <td>2020-10-07</td>\n",
       "      <td>542</td>\n",
       "      <td>81263</td>\n",
       "      <td>527.857143</td>\n",
       "      <td>84233.571429</td>\n",
       "    </tr>\n",
       "    <tr>\n",
       "      <th>7</th>\n",
       "      <td>2020-10-08</td>\n",
       "      <td>522</td>\n",
       "      <td>83990</td>\n",
       "      <td>514.571429</td>\n",
       "      <td>83415.285714</td>\n",
       "    </tr>\n",
       "    <tr>\n",
       "      <th>8</th>\n",
       "      <td>2020-10-09</td>\n",
       "      <td>524</td>\n",
       "      <td>87644</td>\n",
       "      <td>504.285714</td>\n",
       "      <td>84364.285714</td>\n",
       "    </tr>\n",
       "    <tr>\n",
       "      <th>9</th>\n",
       "      <td>2020-10-10</td>\n",
       "      <td>312</td>\n",
       "      <td>93919</td>\n",
       "      <td>509.428571</td>\n",
       "      <td>84129.571429</td>\n",
       "    </tr>\n",
       "    <tr>\n",
       "      <th>10</th>\n",
       "      <td>2020-10-11</td>\n",
       "      <td>281</td>\n",
       "      <td>75426</td>\n",
       "      <td>501.571429</td>\n",
       "      <td>83381.571429</td>\n",
       "    </tr>\n",
       "    <tr>\n",
       "      <th>11</th>\n",
       "      <td>2020-10-12</td>\n",
       "      <td>514</td>\n",
       "      <td>16405</td>\n",
       "      <td>465.857143</td>\n",
       "      <td>74897.285714</td>\n",
       "    </tr>\n",
       "    <tr>\n",
       "      <th>12</th>\n",
       "      <td>2020-10-13</td>\n",
       "      <td>588</td>\n",
       "      <td>51885</td>\n",
       "      <td>469.000000</td>\n",
       "      <td>70076.000000</td>\n",
       "    </tr>\n",
       "    <tr>\n",
       "      <th>13</th>\n",
       "      <td>2020-10-14</td>\n",
       "      <td>577</td>\n",
       "      <td>88404</td>\n",
       "      <td>474.000000</td>\n",
       "      <td>71096.142857</td>\n",
       "    </tr>\n",
       "  </tbody>\n",
       "</table>\n",
       "</div>"
      ],
      "text/plain": [
       "          date  cases_per_day  no_of_trip  last_seven_days_cases  \\\n",
       "0   2020-10-01            615       89718             615.000000   \n",
       "1   2020-10-02            596       81001             605.500000   \n",
       "2   2020-10-03            276       95562             495.666667   \n",
       "3   2020-10-04            336       80662             455.750000   \n",
       "4   2020-10-05            764       75795             517.400000   \n",
       "5   2020-10-06            566       85634             525.500000   \n",
       "6   2020-10-07            542       81263             527.857143   \n",
       "7   2020-10-08            522       83990             514.571429   \n",
       "8   2020-10-09            524       87644             504.285714   \n",
       "9   2020-10-10            312       93919             509.428571   \n",
       "10  2020-10-11            281       75426             501.571429   \n",
       "11  2020-10-12            514       16405             465.857143   \n",
       "12  2020-10-13            588       51885             469.000000   \n",
       "13  2020-10-14            577       88404             474.000000   \n",
       "\n",
       "    last_seven_days_no_of_trip  \n",
       "0                 89718.000000  \n",
       "1                 85359.500000  \n",
       "2                 88760.333333  \n",
       "3                 86735.750000  \n",
       "4                 84547.600000  \n",
       "5                 84728.666667  \n",
       "6                 84233.571429  \n",
       "7                 83415.285714  \n",
       "8                 84364.285714  \n",
       "9                 84129.571429  \n",
       "10                83381.571429  \n",
       "11                74897.285714  \n",
       "12                70076.000000  \n",
       "13                71096.142857  "
      ]
     },
     "execution_count": 26,
     "metadata": {},
     "output_type": "execute_result"
    }
   ],
   "source": [
    "citibike_covid_df.head(14)"
   ]
  },
  {
   "cell_type": "code",
   "execution_count": 27,
   "metadata": {
    "ExecuteTime": {
     "end_time": "2021-02-20T08:09:17.083137Z",
     "start_time": "2021-02-20T08:09:17.079156Z"
    }
   },
   "outputs": [],
   "source": [
    "citibike_covid_df = citibike_covid_df.iloc[6:]"
   ]
  },
  {
   "cell_type": "code",
   "execution_count": 28,
   "metadata": {
    "ExecuteTime": {
     "end_time": "2021-02-20T08:09:17.100235Z",
     "start_time": "2021-02-20T08:09:17.085302Z"
    }
   },
   "outputs": [
    {
     "data": {
      "text/html": [
       "<div>\n",
       "<style scoped>\n",
       "    .dataframe tbody tr th:only-of-type {\n",
       "        vertical-align: middle;\n",
       "    }\n",
       "\n",
       "    .dataframe tbody tr th {\n",
       "        vertical-align: top;\n",
       "    }\n",
       "\n",
       "    .dataframe thead th {\n",
       "        text-align: right;\n",
       "    }\n",
       "</style>\n",
       "<table border=\"1\" class=\"dataframe\">\n",
       "  <thead>\n",
       "    <tr style=\"text-align: right;\">\n",
       "      <th></th>\n",
       "      <th>date</th>\n",
       "      <th>cases_per_day</th>\n",
       "      <th>no_of_trip</th>\n",
       "      <th>last_seven_days_cases</th>\n",
       "      <th>last_seven_days_no_of_trip</th>\n",
       "    </tr>\n",
       "  </thead>\n",
       "  <tbody>\n",
       "    <tr>\n",
       "      <th>6</th>\n",
       "      <td>2020-10-07</td>\n",
       "      <td>542</td>\n",
       "      <td>81263</td>\n",
       "      <td>527.857143</td>\n",
       "      <td>84233.571429</td>\n",
       "    </tr>\n",
       "    <tr>\n",
       "      <th>7</th>\n",
       "      <td>2020-10-08</td>\n",
       "      <td>522</td>\n",
       "      <td>83990</td>\n",
       "      <td>514.571429</td>\n",
       "      <td>83415.285714</td>\n",
       "    </tr>\n",
       "    <tr>\n",
       "      <th>8</th>\n",
       "      <td>2020-10-09</td>\n",
       "      <td>524</td>\n",
       "      <td>87644</td>\n",
       "      <td>504.285714</td>\n",
       "      <td>84364.285714</td>\n",
       "    </tr>\n",
       "    <tr>\n",
       "      <th>9</th>\n",
       "      <td>2020-10-10</td>\n",
       "      <td>312</td>\n",
       "      <td>93919</td>\n",
       "      <td>509.428571</td>\n",
       "      <td>84129.571429</td>\n",
       "    </tr>\n",
       "    <tr>\n",
       "      <th>10</th>\n",
       "      <td>2020-10-11</td>\n",
       "      <td>281</td>\n",
       "      <td>75426</td>\n",
       "      <td>501.571429</td>\n",
       "      <td>83381.571429</td>\n",
       "    </tr>\n",
       "  </tbody>\n",
       "</table>\n",
       "</div>"
      ],
      "text/plain": [
       "          date  cases_per_day  no_of_trip  last_seven_days_cases  \\\n",
       "6   2020-10-07            542       81263             527.857143   \n",
       "7   2020-10-08            522       83990             514.571429   \n",
       "8   2020-10-09            524       87644             504.285714   \n",
       "9   2020-10-10            312       93919             509.428571   \n",
       "10  2020-10-11            281       75426             501.571429   \n",
       "\n",
       "    last_seven_days_no_of_trip  \n",
       "6                 84233.571429  \n",
       "7                 83415.285714  \n",
       "8                 84364.285714  \n",
       "9                 84129.571429  \n",
       "10                83381.571429  "
      ]
     },
     "execution_count": 28,
     "metadata": {},
     "output_type": "execute_result"
    }
   ],
   "source": [
    "citibike_covid_df.head()"
   ]
  },
  {
   "cell_type": "code",
   "execution_count": 29,
   "metadata": {
    "ExecuteTime": {
     "end_time": "2021-02-20T08:09:17.123781Z",
     "start_time": "2021-02-20T08:09:17.102900Z"
    }
   },
   "outputs": [],
   "source": [
    "citibike_covid_df.to_csv(r'data/data.csv',index=False)"
   ]
  },
  {
   "cell_type": "code",
   "execution_count": 30,
   "metadata": {
    "ExecuteTime": {
     "end_time": "2021-02-20T08:09:17.528465Z",
     "start_time": "2021-02-20T08:09:17.124776Z"
    }
   },
   "outputs": [],
   "source": [
    "%matplotlib inline\n",
    "import matplotlib.pyplot as plt\n",
    "import numpy as np\n",
    "import pandas as pd"
   ]
  },
  {
   "cell_type": "code",
   "execution_count": 31,
   "metadata": {
    "ExecuteTime": {
     "end_time": "2021-02-20T08:09:17.537462Z",
     "start_time": "2021-02-20T08:09:17.529432Z"
    }
   },
   "outputs": [
    {
     "name": "stdout",
     "output_type": "stream",
     "text": [
      "(117, 1) (117, 1)\n"
     ]
    }
   ],
   "source": [
    "# Assign the data to X and y\n",
    "\n",
    "X = citibike_covid_df[[\"last_seven_days_cases\"]].values.reshape(-1, 1)\n",
    "y = citibike_covid_df[\"last_seven_days_no_of_trip\"].values.reshape(-1, 1)\n",
    "print(X.shape, y.shape)"
   ]
  },
  {
   "cell_type": "code",
   "execution_count": 32,
   "metadata": {
    "ExecuteTime": {
     "end_time": "2021-02-20T08:09:18.527939Z",
     "start_time": "2021-02-20T08:09:17.539427Z"
    }
   },
   "outputs": [],
   "source": [
    "# Use train_test_split to create training and testing data\n",
    "\n",
    "### BEGIN SOLUTION\n",
    "from sklearn.model_selection import train_test_split\n",
    "\n",
    "X_train, X_test, y_train, y_test = train_test_split(X, y, random_state=42)\n",
    "\n",
    "### END SOLUTION"
   ]
  },
  {
   "cell_type": "code",
   "execution_count": 33,
   "metadata": {
    "ExecuteTime": {
     "end_time": "2021-02-20T08:09:18.604401Z",
     "start_time": "2021-02-20T08:09:18.529094Z"
    }
   },
   "outputs": [],
   "source": [
    "# Create the model using LinearRegression\n",
    "\n",
    "### BEGIN SOLUTION\n",
    "from sklearn.linear_model import LinearRegression\n",
    "model = LinearRegression()\n",
    "### END SOLUTION"
   ]
  },
  {
   "cell_type": "code",
   "execution_count": 34,
   "metadata": {
    "ExecuteTime": {
     "end_time": "2021-02-20T08:09:18.621428Z",
     "start_time": "2021-02-20T08:09:18.605401Z"
    }
   },
   "outputs": [
    {
     "name": "stdout",
     "output_type": "stream",
     "text": [
      "Training Score: 0.6742256789070582\n",
      "Testing Score: 0.6764876656672402\n"
     ]
    }
   ],
   "source": [
    "# Fit the model to the training data and calculate the scores for the training and testing data\n",
    "\n",
    "### BEGIN SOLUTION\n",
    "model.fit(X_train, y_train)\n",
    "training_score = model.score(X_train, y_train)\n",
    "testing_score = model.score(X_test, y_test)\n",
    "\n",
    "### END SOLUTION \n",
    "\n",
    "print(f\"Training Score: {training_score}\")\n",
    "print(f\"Testing Score: {testing_score}\")"
   ]
  },
  {
   "cell_type": "code",
   "execution_count": 35,
   "metadata": {
    "ExecuteTime": {
     "end_time": "2021-02-20T08:09:18.879514Z",
     "start_time": "2021-02-20T08:09:18.623401Z"
    }
   },
   "outputs": [
    {
     "data": {
      "image/png": "[encoded data removed]",
      "text/plain": [
       "<Figure size 432x288 with 1 Axes>"
      ]
     },
     "metadata": {
      "needs_background": "light"
     },
     "output_type": "display_data"
    }
   ],
   "source": [
    "plt.scatter(X, y)\n",
    "plt.show()"
   ]
  },
  {
   "cell_type": "code",
   "execution_count": 36,
   "metadata": {
    "ExecuteTime": {
     "end_time": "2021-02-20T08:09:18.886517Z",
     "start_time": "2021-02-20T08:09:18.880514Z"
    }
   },
   "outputs": [
    {
     "name": "stdout",
     "output_type": "stream",
     "text": [
      "Weight coefficients:  [[-9.80861441]]\n",
      "y-axis intercept:  [73307.74332843]\n"
     ]
    }
   ],
   "source": [
    "# Print the coefficient and the intercept for the model\n",
    "\n",
    "### BEGIN SOLUTION\n",
    "print('Weight coefficients: ', model.coef_)\n",
    "print('y-axis intercept: ', model.intercept_)\n",
    "### END SOLUTION"
   ]
  },
  {
   "cell_type": "code",
   "execution_count": 37,
   "metadata": {
    "ExecuteTime": {
     "end_time": "2021-02-20T08:09:18.895498Z",
     "start_time": "2021-02-20T08:09:18.888516Z"
    }
   },
   "outputs": [
    {
     "name": "stdout",
     "output_type": "stream",
     "text": [
      "Min X Value: [[465.85714286]]\n",
      "Max X Value: [[5182.]]\n"
     ]
    }
   ],
   "source": [
    "# Note: we have to transform our min and max values \n",
    "# so they are in the format: array([[ 1.17]])\n",
    "# This is the required format for `model.predict()`\n",
    "\n",
    "x_min = np.array([[X.min()]])\n",
    "x_max = np.array([[X.max()]])\n",
    "print(f\"Min X Value: {x_min}\")\n",
    "print(f\"Max X Value: {x_max}\")"
   ]
  },
  {
   "cell_type": "code",
   "execution_count": 38,
   "metadata": {
    "ExecuteTime": {
     "end_time": "2021-02-20T08:09:18.903496Z",
     "start_time": "2021-02-20T08:09:18.897465Z"
    }
   },
   "outputs": [],
   "source": [
    "# Calculate the y_min and y_max using model.predict and x_min and x_max\n",
    "\n",
    "### BEGIN SOLUTION\n",
    "y_min = model.predict(x_min)\n",
    "y_max = model.predict(x_max)\n",
    "### END SOLUTION"
   ]
  },
  {
   "cell_type": "code",
   "execution_count": 39,
   "metadata": {
    "ExecuteTime": {
     "end_time": "2021-02-20T08:09:19.249856Z",
     "start_time": "2021-02-20T08:09:18.905516Z"
    }
   },
   "outputs": [
    {
     "data": {
      "image/png": "[encoded data removed]",
      "text/plain": [
       "<Figure size 432x288 with 1 Axes>"
      ]
     },
     "metadata": {
      "needs_background": "light"
     },
     "output_type": "display_data"
    }
   ],
   "source": [
    "# Plot X and y using plt.scatter\n",
    "# Plot the model fit line using [x_min[0], x_max[0]], [y_min[0], y_max[0]]\n",
    "\n",
    "### BEGIN SOLUTION\n",
    "plt.scatter(X, y, c='blue')\n",
    "plt.plot([x_min[0], x_max[0]], [y_min[0], y_max[0]], c='red')\n",
    "plt.xlabel('covid cases for past 7 days')\n",
    "plt.ylabel('no of trip for past 7 days')\n",
    "plt.title('Second Wave Linear Regression')\n",
    "plt.savefig('static\\images\\secondwavelr.jpg', dpi=300)\n",
    "plt.show()\n",
    "### END SOLUTION"
   ]
  },
  {
   "cell_type": "markdown",
   "metadata": {},
   "source": [
    "The linear model now looks like this:\n",
    "\n",
    "y=73307.74332843-9.80861441x"
   ]
  },
  {
   "cell_type": "code",
   "execution_count": 40,
   "metadata": {
    "ExecuteTime": {
     "end_time": "2021-02-20T08:09:21.947936Z",
     "start_time": "2021-02-20T08:09:19.251235Z"
    }
   },
   "outputs": [],
   "source": [
    "from sklearn.svm import SVR\n",
    "svr_rbf = SVR(kernel='rbf', C=1e3, gamma=0.1)\n",
    "svr_lin = SVR(kernel='linear', C=1e3)\n",
    "svr_poly = SVR(kernel='poly', C=1e3, degree=2)\n",
    "y_rbf = svr_rbf.fit(X, y.ravel()).predict(X)\n",
    "y_lin = svr_lin.fit(X, y.ravel()).predict(X)\n",
    "y_poly = svr_poly.fit(X, y.ravel()).predict(X)"
   ]
  },
  {
   "cell_type": "code",
   "execution_count": 41,
   "metadata": {
    "ExecuteTime": {
     "end_time": "2021-02-20T08:09:21.952832Z",
     "start_time": "2021-02-20T08:09:21.948836Z"
    }
   },
   "outputs": [],
   "source": [
    "#svr_poly.fit(X_train, y_train.ravel()).predict(X_train)"
   ]
  },
  {
   "cell_type": "code",
   "execution_count": 42,
   "metadata": {
    "ExecuteTime": {
     "end_time": "2021-02-20T08:09:22.250414Z",
     "start_time": "2021-02-20T08:09:21.954810Z"
    }
   },
   "outputs": [
    {
     "data": {
      "image/png": "[encoded data removed]",
      "text/plain": [
       "<Figure size 432x288 with 1 Axes>"
      ]
     },
     "metadata": {
      "needs_background": "light"
     },
     "output_type": "display_data"
    }
   ],
   "source": [
    "lw = 2\n",
    "plt.scatter(X, y, color='darkorange', label='data')\n",
    "#plt.hold('on')\n",
    "plt.plot(X, y_rbf, color='navy', lw=lw, label='RBF model')\n",
    "plt.plot(X, y_lin, color='c', lw=lw, label='Linear model')\n",
    "plt.plot(X, y_poly, color='cornflowerblue', lw=lw, label='Polynomial model')\n",
    "plt.xlabel('covid cases for past 7 days')\n",
    "plt.ylabel('no of trip for past 7 days')\n",
    "plt.title('Second Wave Support Vector Regression')\n",
    "plt.legend()\n",
    "plt.savefig('static\\images\\secondwavesvr.jpg', dpi=300)\n",
    "plt.show()"
   ]
  },
  {
   "cell_type": "code",
   "execution_count": 43,
   "metadata": {
    "ExecuteTime": {
     "end_time": "2021-02-20T08:09:22.453417Z",
     "start_time": "2021-02-20T08:09:22.252417Z"
    }
   },
   "outputs": [
    {
     "data": {
      "text/plain": [
       "Text(0.5, 1.0, 'Residual Plot')"
      ]
     },
     "execution_count": 43,
     "metadata": {},
     "output_type": "execute_result"
    },
    {
     "data": {
      "image/png": "[encoded data removed]",
      "text/plain": [
       "<Figure size 432x288 with 1 Axes>"
      ]
     },
     "metadata": {
      "needs_background": "light"
     },
     "output_type": "display_data"
    }
   ],
   "source": [
    "# Plot the Residuals for the Training and Testing data\n",
    "\n",
    "### BEGIN SOLUTION \n",
    "plt.scatter(model.predict(X_train), model.predict(X_train) - y_train, c=\"blue\", label=\"Training Data\") \n",
    "plt.scatter(model.predict(X_test), model.predict(X_test) - y_test, c=\"orange\", label=\"Testing Data\")\n",
    "plt.legend()\n",
    "plt.hlines(y=0, xmin=y.min(), xmax=y.max())\n",
    "plt.title(\"Residual Plot\")\n",
    "### END SOLUTION"
   ]
  },
  {
   "cell_type": "code",
   "execution_count": 44,
   "metadata": {
    "ExecuteTime": {
     "end_time": "2021-02-20T08:09:22.866968Z",
     "start_time": "2021-02-20T08:09:22.454384Z"
    }
   },
   "outputs": [
    {
     "data": {
      "image/png": "[encoded data removed]",
      "text/plain": [
       "<Figure size 432x288 with 2 Axes>"
      ]
     },
     "metadata": {
      "needs_background": "light"
     },
     "output_type": "display_data"
    }
   ],
   "source": [
    "import matplotlib.pyplot as plt\n",
    "\n",
    "t = citibike_covid_df['date']\n",
    "data1 = citibike_covid_df['last_seven_days_cases']\n",
    "data2 = citibike_covid_df['last_seven_days_no_of_trip']\n",
    "\n",
    "fig, ax1 = plt.subplots()\n",
    "plt.xticks(rotation = 45)\n",
    "\n",
    "color = 'tab:red'\n",
    "ax1.set_xlabel('date')\n",
    "ax1.set_ylabel('Average cases for past 7 days', color=color)\n",
    "ax1.plot(t, data1, color=color)\n",
    "ax1.tick_params(axis='y', labelcolor=color)\n",
    "\n",
    "ax2 = ax1.twinx()  # instantiate a second axes that shares the same x-axis\n",
    "\n",
    "color = 'tab:blue'\n",
    "ax2.set_ylabel('Average trips for past last 7 days', color=color)  # we already handled the x-label with ax1\n",
    "ax2.plot(t, data2, color=color)\n",
    "ax2.tick_params(axis='y', labelcolor=color)\n",
    "\n",
    "fig.tight_layout()  # otherwise the right y-label is slightly clipped\n",
    "plt.savefig('static\\images\\secondwavelinegraph.jpg', dpi=300)\n",
    "plt.show()"
   ]
  },
  {
   "cell_type": "code",
   "execution_count": 45,
   "metadata": {
    "ExecuteTime": {
     "end_time": "2021-02-20T08:09:22.872245Z",
     "start_time": "2021-02-20T08:09:22.867994Z"
    }
   },
   "outputs": [],
   "source": [
    "#get the file\n",
    "oct19_df = \"data/201910-citibike-tripdata.csv\"\n",
    "nov19_df = \"data/201911-citibike-tripdata.csv\"\n",
    "dec19_df = \"data/201912-citibike-tripdata.csv\"\n",
    "jan20_df = \"data/202001-citibike-tripdata.csv\""
   ]
  },
  {
   "cell_type": "code",
   "execution_count": 46,
   "metadata": {
    "ExecuteTime": {
     "end_time": "2021-02-20T08:09:35.904720Z",
     "start_time": "2021-02-20T08:09:22.873756Z"
    }
   },
   "outputs": [],
   "source": [
    "#read the data file\n",
    "df_oct19 = pd.read_csv(oct19_df)\n",
    "df_nov19 = pd.read_csv(nov19_df)\n",
    "df_dec19 = pd.read_csv(dec19_df)\n",
    "df_jan20 = pd.read_csv(jan20_df)"
   ]
  },
  {
   "cell_type": "code",
   "execution_count": 47,
   "metadata": {
    "ExecuteTime": {
     "end_time": "2021-02-20T08:09:35.909827Z",
     "start_time": "2021-02-20T08:09:35.905760Z"
    }
   },
   "outputs": [],
   "source": [
    "#combine citibike dataframe\n",
    "frames1 = [df_oct19, df_nov19, df_dec19, df_jan20]"
   ]
  },
  {
   "cell_type": "code",
   "execution_count": 48,
   "metadata": {
    "ExecuteTime": {
     "end_time": "2021-02-20T08:09:37.258302Z",
     "start_time": "2021-02-20T08:09:35.911789Z"
    }
   },
   "outputs": [],
   "source": [
    "citibike19 = pd.concat(frames1)"
   ]
  },
  {
   "cell_type": "code",
   "execution_count": 49,
   "metadata": {
    "ExecuteTime": {
     "end_time": "2021-02-20T08:09:37.274159Z",
     "start_time": "2021-02-20T08:09:37.259581Z"
    }
   },
   "outputs": [
    {
     "data": {
      "text/html": [
       "<div>\n",
       "<style scoped>\n",
       "    .dataframe tbody tr th:only-of-type {\n",
       "        vertical-align: middle;\n",
       "    }\n",
       "\n",
       "    .dataframe tbody tr th {\n",
       "        vertical-align: top;\n",
       "    }\n",
       "\n",
       "    .dataframe thead th {\n",
       "        text-align: right;\n",
       "    }\n",
       "</style>\n",
       "<table border=\"1\" class=\"dataframe\">\n",
       "  <thead>\n",
       "    <tr style=\"text-align: right;\">\n",
       "      <th></th>\n",
       "      <th>tripduration</th>\n",
       "      <th>starttime</th>\n",
       "      <th>stoptime</th>\n",
       "      <th>start station id</th>\n",
       "      <th>start station name</th>\n",
       "      <th>start station latitude</th>\n",
       "      <th>start station longitude</th>\n",
       "      <th>end station id</th>\n",
       "      <th>end station name</th>\n",
       "      <th>end station latitude</th>\n",
       "      <th>end station longitude</th>\n",
       "      <th>bikeid</th>\n",
       "      <th>usertype</th>\n",
       "      <th>birth year</th>\n",
       "      <th>gender</th>\n",
       "    </tr>\n",
       "  </thead>\n",
       "  <tbody>\n",
       "    <tr>\n",
       "      <th>0</th>\n",
       "      <td>527</td>\n",
       "      <td>2019-10-01 00:00:05.6180</td>\n",
       "      <td>2019-10-01 00:08:52.9430</td>\n",
       "      <td>3746</td>\n",
       "      <td>6 Ave &amp; Broome St</td>\n",
       "      <td>40.724308</td>\n",
       "      <td>-74.004730</td>\n",
       "      <td>223</td>\n",
       "      <td>W 13 St &amp; 7 Ave</td>\n",
       "      <td>40.737815</td>\n",
       "      <td>-73.999947</td>\n",
       "      <td>41750</td>\n",
       "      <td>Subscriber</td>\n",
       "      <td>1993</td>\n",
       "      <td>1</td>\n",
       "    </tr>\n",
       "    <tr>\n",
       "      <th>1</th>\n",
       "      <td>174</td>\n",
       "      <td>2019-10-01 00:00:15.8750</td>\n",
       "      <td>2019-10-01 00:03:10.1680</td>\n",
       "      <td>3301</td>\n",
       "      <td>Columbus Ave &amp; W 95 St</td>\n",
       "      <td>40.791956</td>\n",
       "      <td>-73.968087</td>\n",
       "      <td>3283</td>\n",
       "      <td>W 89 St &amp; Columbus Ave</td>\n",
       "      <td>40.788221</td>\n",
       "      <td>-73.970416</td>\n",
       "      <td>18264</td>\n",
       "      <td>Subscriber</td>\n",
       "      <td>1992</td>\n",
       "      <td>1</td>\n",
       "    </tr>\n",
       "    <tr>\n",
       "      <th>2</th>\n",
       "      <td>759</td>\n",
       "      <td>2019-10-01 00:00:19.8240</td>\n",
       "      <td>2019-10-01 00:12:59.7070</td>\n",
       "      <td>161</td>\n",
       "      <td>LaGuardia Pl &amp; W 3 St</td>\n",
       "      <td>40.729170</td>\n",
       "      <td>-73.998102</td>\n",
       "      <td>174</td>\n",
       "      <td>E 25 St &amp; 1 Ave</td>\n",
       "      <td>40.738177</td>\n",
       "      <td>-73.977387</td>\n",
       "      <td>25525</td>\n",
       "      <td>Subscriber</td>\n",
       "      <td>1995</td>\n",
       "      <td>1</td>\n",
       "    </tr>\n",
       "    <tr>\n",
       "      <th>3</th>\n",
       "      <td>615</td>\n",
       "      <td>2019-10-01 00:00:21.0680</td>\n",
       "      <td>2019-10-01 00:10:36.6790</td>\n",
       "      <td>254</td>\n",
       "      <td>W 11 St &amp; 6 Ave</td>\n",
       "      <td>40.735324</td>\n",
       "      <td>-73.998004</td>\n",
       "      <td>477</td>\n",
       "      <td>W 41 St &amp; 8 Ave</td>\n",
       "      <td>40.756405</td>\n",
       "      <td>-73.990026</td>\n",
       "      <td>30186</td>\n",
       "      <td>Subscriber</td>\n",
       "      <td>1992</td>\n",
       "      <td>1</td>\n",
       "    </tr>\n",
       "    <tr>\n",
       "      <th>4</th>\n",
       "      <td>761</td>\n",
       "      <td>2019-10-01 00:00:26.3800</td>\n",
       "      <td>2019-10-01 00:13:08.3130</td>\n",
       "      <td>161</td>\n",
       "      <td>LaGuardia Pl &amp; W 3 St</td>\n",
       "      <td>40.729170</td>\n",
       "      <td>-73.998102</td>\n",
       "      <td>174</td>\n",
       "      <td>E 25 St &amp; 1 Ave</td>\n",
       "      <td>40.738177</td>\n",
       "      <td>-73.977387</td>\n",
       "      <td>25597</td>\n",
       "      <td>Subscriber</td>\n",
       "      <td>1992</td>\n",
       "      <td>1</td>\n",
       "    </tr>\n",
       "  </tbody>\n",
       "</table>\n",
       "</div>"
      ],
      "text/plain": [
       "   tripduration                 starttime                  stoptime  \\\n",
       "0           527  2019-10-01 00:00:05.6180  2019-10-01 00:08:52.9430   \n",
       "1           174  2019-10-01 00:00:15.8750  2019-10-01 00:03:10.1680   \n",
       "2           759  2019-10-01 00:00:19.8240  2019-10-01 00:12:59.7070   \n",
       "3           615  2019-10-01 00:00:21.0680  2019-10-01 00:10:36.6790   \n",
       "4           761  2019-10-01 00:00:26.3800  2019-10-01 00:13:08.3130   \n",
       "\n",
       "   start station id      start station name  start station latitude  \\\n",
       "0              3746       6 Ave & Broome St               40.724308   \n",
       "1              3301  Columbus Ave & W 95 St               40.791956   \n",
       "2               161   LaGuardia Pl & W 3 St               40.729170   \n",
       "3               254         W 11 St & 6 Ave               40.735324   \n",
       "4               161   LaGuardia Pl & W 3 St               40.729170   \n",
       "\n",
       "   start station longitude  end station id        end station name  \\\n",
       "0               -74.004730             223         W 13 St & 7 Ave   \n",
       "1               -73.968087            3283  W 89 St & Columbus Ave   \n",
       "2               -73.998102             174         E 25 St & 1 Ave   \n",
       "3               -73.998004             477         W 41 St & 8 Ave   \n",
       "4               -73.998102             174         E 25 St & 1 Ave   \n",
       "\n",
       "   end station latitude  end station longitude  bikeid    usertype  \\\n",
       "0             40.737815             -73.999947   41750  Subscriber   \n",
       "1             40.788221             -73.970416   18264  Subscriber   \n",
       "2             40.738177             -73.977387   25525  Subscriber   \n",
       "3             40.756405             -73.990026   30186  Subscriber   \n",
       "4             40.738177             -73.977387   25597  Subscriber   \n",
       "\n",
       "   birth year  gender  \n",
       "0        1993       1  \n",
       "1        1992       1  \n",
       "2        1995       1  \n",
       "3        1992       1  \n",
       "4        1992       1  "
      ]
     },
     "execution_count": 49,
     "metadata": {},
     "output_type": "execute_result"
    }
   ],
   "source": [
    "citibike19.head()"
   ]
  },
  {
   "cell_type": "code",
   "execution_count": 50,
   "metadata": {
    "ExecuteTime": {
     "end_time": "2021-02-20T08:09:42.320597Z",
     "start_time": "2021-02-20T08:09:37.276141Z"
    }
   },
   "outputs": [],
   "source": [
    "citibike19[\"starttime\"] = pd.to_datetime(citibike19[\"starttime\"])"
   ]
  },
  {
   "cell_type": "code",
   "execution_count": 51,
   "metadata": {
    "ExecuteTime": {
     "end_time": "2021-02-20T08:09:43.827941Z",
     "start_time": "2021-02-20T08:09:42.321609Z"
    }
   },
   "outputs": [],
   "source": [
    "citibike19[\"date\"] = citibike19[\"starttime\"].dt.date"
   ]
  },
  {
   "cell_type": "code",
   "execution_count": 52,
   "metadata": {
    "ExecuteTime": {
     "end_time": "2021-02-20T08:09:45.530306Z",
     "start_time": "2021-02-20T08:09:43.829433Z"
    }
   },
   "outputs": [],
   "source": [
    "citibike_by_date19 = citibike19.groupby([citibike19['date']]).starttime.count()"
   ]
  },
  {
   "cell_type": "code",
   "execution_count": 53,
   "metadata": {
    "ExecuteTime": {
     "end_time": "2021-02-20T08:09:45.536277Z",
     "start_time": "2021-02-20T08:09:45.531496Z"
    }
   },
   "outputs": [],
   "source": [
    "citibike_by_date19 = pd.DataFrame(citibike_by_date19)"
   ]
  },
  {
   "cell_type": "code",
   "execution_count": 54,
   "metadata": {
    "ExecuteTime": {
     "end_time": "2021-02-20T08:09:45.549341Z",
     "start_time": "2021-02-20T08:09:45.538321Z"
    }
   },
   "outputs": [
    {
     "data": {
      "text/html": [
       "<div>\n",
       "<style scoped>\n",
       "    .dataframe tbody tr th:only-of-type {\n",
       "        vertical-align: middle;\n",
       "    }\n",
       "\n",
       "    .dataframe tbody tr th {\n",
       "        vertical-align: top;\n",
       "    }\n",
       "\n",
       "    .dataframe thead th {\n",
       "        text-align: right;\n",
       "    }\n",
       "</style>\n",
       "<table border=\"1\" class=\"dataframe\">\n",
       "  <thead>\n",
       "    <tr style=\"text-align: right;\">\n",
       "      <th></th>\n",
       "      <th>starttime</th>\n",
       "    </tr>\n",
       "    <tr>\n",
       "      <th>date</th>\n",
       "      <th></th>\n",
       "    </tr>\n",
       "  </thead>\n",
       "  <tbody>\n",
       "    <tr>\n",
       "      <th>2019-10-01</th>\n",
       "      <td>87033</td>\n",
       "    </tr>\n",
       "    <tr>\n",
       "      <th>2019-10-02</th>\n",
       "      <td>79821</td>\n",
       "    </tr>\n",
       "    <tr>\n",
       "      <th>2019-10-03</th>\n",
       "      <td>39067</td>\n",
       "    </tr>\n",
       "    <tr>\n",
       "      <th>2019-10-04</th>\n",
       "      <td>83360</td>\n",
       "    </tr>\n",
       "    <tr>\n",
       "      <th>2019-10-05</th>\n",
       "      <td>69131</td>\n",
       "    </tr>\n",
       "  </tbody>\n",
       "</table>\n",
       "</div>"
      ],
      "text/plain": [
       "            starttime\n",
       "date                 \n",
       "2019-10-01      87033\n",
       "2019-10-02      79821\n",
       "2019-10-03      39067\n",
       "2019-10-04      83360\n",
       "2019-10-05      69131"
      ]
     },
     "execution_count": 54,
     "metadata": {},
     "output_type": "execute_result"
    }
   ],
   "source": [
    "citibike_by_date19.head()"
   ]
  },
  {
   "cell_type": "code",
   "execution_count": 55,
   "metadata": {
    "ExecuteTime": {
     "end_time": "2021-02-20T08:09:45.573308Z",
     "start_time": "2021-02-20T08:09:45.551429Z"
    }
   },
   "outputs": [
    {
     "data": {
      "text/html": [
       "<div>\n",
       "<style scoped>\n",
       "    .dataframe tbody tr th:only-of-type {\n",
       "        vertical-align: middle;\n",
       "    }\n",
       "\n",
       "    .dataframe tbody tr th {\n",
       "        vertical-align: top;\n",
       "    }\n",
       "\n",
       "    .dataframe thead th {\n",
       "        text-align: right;\n",
       "    }\n",
       "</style>\n",
       "<table border=\"1\" class=\"dataframe\">\n",
       "  <thead>\n",
       "    <tr style=\"text-align: right;\">\n",
       "      <th></th>\n",
       "      <th>no_of_trip</th>\n",
       "    </tr>\n",
       "    <tr>\n",
       "      <th>date</th>\n",
       "      <th></th>\n",
       "    </tr>\n",
       "  </thead>\n",
       "  <tbody>\n",
       "    <tr>\n",
       "      <th>2019-10-01</th>\n",
       "      <td>87033</td>\n",
       "    </tr>\n",
       "    <tr>\n",
       "      <th>2019-10-02</th>\n",
       "      <td>79821</td>\n",
       "    </tr>\n",
       "    <tr>\n",
       "      <th>2019-10-03</th>\n",
       "      <td>39067</td>\n",
       "    </tr>\n",
       "    <tr>\n",
       "      <th>2019-10-04</th>\n",
       "      <td>83360</td>\n",
       "    </tr>\n",
       "    <tr>\n",
       "      <th>2019-10-05</th>\n",
       "      <td>69131</td>\n",
       "    </tr>\n",
       "    <tr>\n",
       "      <th>2019-10-06</th>\n",
       "      <td>60532</td>\n",
       "    </tr>\n",
       "    <tr>\n",
       "      <th>2019-10-07</th>\n",
       "      <td>77323</td>\n",
       "    </tr>\n",
       "    <tr>\n",
       "      <th>2019-10-08</th>\n",
       "      <td>80569</td>\n",
       "    </tr>\n",
       "    <tr>\n",
       "      <th>2019-10-09</th>\n",
       "      <td>50407</td>\n",
       "    </tr>\n",
       "    <tr>\n",
       "      <th>2019-10-10</th>\n",
       "      <td>84856</td>\n",
       "    </tr>\n",
       "    <tr>\n",
       "      <th>2019-10-11</th>\n",
       "      <td>79369</td>\n",
       "    </tr>\n",
       "    <tr>\n",
       "      <th>2019-10-12</th>\n",
       "      <td>70751</td>\n",
       "    </tr>\n",
       "    <tr>\n",
       "      <th>2019-10-13</th>\n",
       "      <td>67616</td>\n",
       "    </tr>\n",
       "    <tr>\n",
       "      <th>2019-10-14</th>\n",
       "      <td>77630</td>\n",
       "    </tr>\n",
       "    <tr>\n",
       "      <th>2019-10-15</th>\n",
       "      <td>83345</td>\n",
       "    </tr>\n",
       "    <tr>\n",
       "      <th>2019-10-16</th>\n",
       "      <td>44056</td>\n",
       "    </tr>\n",
       "    <tr>\n",
       "      <th>2019-10-17</th>\n",
       "      <td>67322</td>\n",
       "    </tr>\n",
       "    <tr>\n",
       "      <th>2019-10-18</th>\n",
       "      <td>73589</td>\n",
       "    </tr>\n",
       "    <tr>\n",
       "      <th>2019-10-19</th>\n",
       "      <td>66879</td>\n",
       "    </tr>\n",
       "    <tr>\n",
       "      <th>2019-10-20</th>\n",
       "      <td>28551</td>\n",
       "    </tr>\n",
       "    <tr>\n",
       "      <th>2019-10-21</th>\n",
       "      <td>78441</td>\n",
       "    </tr>\n",
       "    <tr>\n",
       "      <th>2019-10-22</th>\n",
       "      <td>54806</td>\n",
       "    </tr>\n",
       "    <tr>\n",
       "      <th>2019-10-23</th>\n",
       "      <td>80480</td>\n",
       "    </tr>\n",
       "    <tr>\n",
       "      <th>2019-10-24</th>\n",
       "      <td>83431</td>\n",
       "    </tr>\n",
       "    <tr>\n",
       "      <th>2019-10-25</th>\n",
       "      <td>81152</td>\n",
       "    </tr>\n",
       "    <tr>\n",
       "      <th>2019-10-26</th>\n",
       "      <td>68073</td>\n",
       "    </tr>\n",
       "    <tr>\n",
       "      <th>2019-10-27</th>\n",
       "      <td>26758</td>\n",
       "    </tr>\n",
       "    <tr>\n",
       "      <th>2019-10-28</th>\n",
       "      <td>76742</td>\n",
       "    </tr>\n",
       "    <tr>\n",
       "      <th>2019-10-29</th>\n",
       "      <td>53188</td>\n",
       "    </tr>\n",
       "    <tr>\n",
       "      <th>2019-10-30</th>\n",
       "      <td>68639</td>\n",
       "    </tr>\n",
       "  </tbody>\n",
       "</table>\n",
       "</div>"
      ],
      "text/plain": [
       "            no_of_trip\n",
       "date                  \n",
       "2019-10-01       87033\n",
       "2019-10-02       79821\n",
       "2019-10-03       39067\n",
       "2019-10-04       83360\n",
       "2019-10-05       69131\n",
       "2019-10-06       60532\n",
       "2019-10-07       77323\n",
       "2019-10-08       80569\n",
       "2019-10-09       50407\n",
       "2019-10-10       84856\n",
       "2019-10-11       79369\n",
       "2019-10-12       70751\n",
       "2019-10-13       67616\n",
       "2019-10-14       77630\n",
       "2019-10-15       83345\n",
       "2019-10-16       44056\n",
       "2019-10-17       67322\n",
       "2019-10-18       73589\n",
       "2019-10-19       66879\n",
       "2019-10-20       28551\n",
       "2019-10-21       78441\n",
       "2019-10-22       54806\n",
       "2019-10-23       80480\n",
       "2019-10-24       83431\n",
       "2019-10-25       81152\n",
       "2019-10-26       68073\n",
       "2019-10-27       26758\n",
       "2019-10-28       76742\n",
       "2019-10-29       53188\n",
       "2019-10-30       68639"
      ]
     },
     "execution_count": 55,
     "metadata": {},
     "output_type": "execute_result"
    }
   ],
   "source": [
    "citibike_by_date19=citibike_by_date19.rename(columns={\"date\": \"date\", \"starttime\": \"no_of_trip\"})\n",
    "citibike_by_date19.head(30)"
   ]
  },
  {
   "cell_type": "code",
   "execution_count": 56,
   "metadata": {
    "ExecuteTime": {
     "end_time": "2021-02-20T08:09:45.586310Z",
     "start_time": "2021-02-20T08:09:45.575306Z"
    }
   },
   "outputs": [],
   "source": [
    "citibike_by_date19.to_csv('19trips.csv')"
   ]
  },
  {
   "cell_type": "code",
   "execution_count": 57,
   "metadata": {
    "ExecuteTime": {
     "end_time": "2021-02-20T08:09:45.596421Z",
     "start_time": "2021-02-20T08:09:45.588314Z"
    }
   },
   "outputs": [
    {
     "data": {
      "text/plain": [
       "46886.88617886179"
      ]
     },
     "execution_count": 57,
     "metadata": {},
     "output_type": "execute_result"
    }
   ],
   "source": [
    "average_no_of_trip = citibike_by_date19[\"no_of_trip\"].mean()\n",
    "average_no_of_trip"
   ]
  },
  {
   "cell_type": "code",
   "execution_count": 58,
   "metadata": {
    "ExecuteTime": {
     "end_time": "2021-02-20T08:09:45.641332Z",
     "start_time": "2021-02-20T08:09:45.599310Z"
    }
   },
   "outputs": [
    {
     "data": {
      "text/html": [
       "<div>\n",
       "<style scoped>\n",
       "    .dataframe tbody tr th:only-of-type {\n",
       "        vertical-align: middle;\n",
       "    }\n",
       "\n",
       "    .dataframe tbody tr th {\n",
       "        vertical-align: top;\n",
       "    }\n",
       "\n",
       "    .dataframe thead th {\n",
       "        text-align: right;\n",
       "    }\n",
       "</style>\n",
       "<table border=\"1\" class=\"dataframe\">\n",
       "  <thead>\n",
       "    <tr style=\"text-align: right;\">\n",
       "      <th></th>\n",
       "      <th>no_of_cases</th>\n",
       "      <th>no_of_trip</th>\n",
       "      <th>reduced_by</th>\n",
       "    </tr>\n",
       "  </thead>\n",
       "  <tbody>\n",
       "    <tr>\n",
       "      <th>0</th>\n",
       "      <td>500</td>\n",
       "      <td>68403</td>\n",
       "      <td>0.00</td>\n",
       "    </tr>\n",
       "    <tr>\n",
       "      <th>1</th>\n",
       "      <td>1000</td>\n",
       "      <td>63499</td>\n",
       "      <td>0.00</td>\n",
       "    </tr>\n",
       "    <tr>\n",
       "      <th>2</th>\n",
       "      <td>1500</td>\n",
       "      <td>58594</td>\n",
       "      <td>0.00</td>\n",
       "    </tr>\n",
       "    <tr>\n",
       "      <th>3</th>\n",
       "      <td>2000</td>\n",
       "      <td>53690</td>\n",
       "      <td>0.00</td>\n",
       "    </tr>\n",
       "    <tr>\n",
       "      <th>4</th>\n",
       "      <td>2500</td>\n",
       "      <td>48786</td>\n",
       "      <td>0.00</td>\n",
       "    </tr>\n",
       "    <tr>\n",
       "      <th>5</th>\n",
       "      <td>3000</td>\n",
       "      <td>43881</td>\n",
       "      <td>-0.06</td>\n",
       "    </tr>\n",
       "    <tr>\n",
       "      <th>6</th>\n",
       "      <td>3500</td>\n",
       "      <td>38977</td>\n",
       "      <td>-0.17</td>\n",
       "    </tr>\n",
       "    <tr>\n",
       "      <th>7</th>\n",
       "      <td>4000</td>\n",
       "      <td>34073</td>\n",
       "      <td>-0.27</td>\n",
       "    </tr>\n",
       "    <tr>\n",
       "      <th>8</th>\n",
       "      <td>4500</td>\n",
       "      <td>29168</td>\n",
       "      <td>-0.38</td>\n",
       "    </tr>\n",
       "    <tr>\n",
       "      <th>9</th>\n",
       "      <td>5000</td>\n",
       "      <td>24264</td>\n",
       "      <td>-0.48</td>\n",
       "    </tr>\n",
       "    <tr>\n",
       "      <th>10</th>\n",
       "      <td>5500</td>\n",
       "      <td>19360</td>\n",
       "      <td>-0.59</td>\n",
       "    </tr>\n",
       "    <tr>\n",
       "      <th>11</th>\n",
       "      <td>6000</td>\n",
       "      <td>14456</td>\n",
       "      <td>-0.69</td>\n",
       "    </tr>\n",
       "    <tr>\n",
       "      <th>12</th>\n",
       "      <td>6500</td>\n",
       "      <td>9551</td>\n",
       "      <td>-0.80</td>\n",
       "    </tr>\n",
       "  </tbody>\n",
       "</table>\n",
       "</div>"
      ],
      "text/plain": [
       "    no_of_cases  no_of_trip  reduced_by\n",
       "0           500       68403        0.00\n",
       "1          1000       63499        0.00\n",
       "2          1500       58594        0.00\n",
       "3          2000       53690        0.00\n",
       "4          2500       48786        0.00\n",
       "5          3000       43881       -0.06\n",
       "6          3500       38977       -0.17\n",
       "7          4000       34073       -0.27\n",
       "8          4500       29168       -0.38\n",
       "9          5000       24264       -0.48\n",
       "10         5500       19360       -0.59\n",
       "11         6000       14456       -0.69\n",
       "12         6500        9551       -0.80"
      ]
     },
     "execution_count": 58,
     "metadata": {},
     "output_type": "execute_result"
    }
   ],
   "source": [
    "N=13\n",
    "prediction_df = pd.DataFrame({\"no_of_cases\" : range(500, N+6500,500)})\n",
    "prediction_df[\"no_of_trip\"] = (float(model.intercept_) + (float(model.coef_) * prediction_df[\"no_of_cases\"]))\n",
    "prediction_df[\"no_of_trip\"] = prediction_df[\"no_of_trip\"].astype(int)\n",
    "prediction_df[\"reduced_by\"] = prediction_df[\"no_of_trip\"] - average_no_of_trip\n",
    "prediction_df.loc[prediction_df[\"reduced_by\"] <=0, \"reduced_by\"] = ((prediction_df[\"no_of_trip\"] - average_no_of_trip) / average_no_of_trip)\n",
    "prediction_df.loc[prediction_df[\"reduced_by\"] >= 0, \"reduced_by\"] = 0\n",
    "prediction_df[\"reduced_by\"] = prediction_df[\"reduced_by\"].round(decimals = 2)\n",
    "prediction_df.head(15)"
   ]
  },
  {
   "cell_type": "code",
   "execution_count": 59,
   "metadata": {
    "ExecuteTime": {
     "end_time": "2021-02-20T08:09:45.656643Z",
     "start_time": "2021-02-20T08:09:45.649349Z"
    }
   },
   "outputs": [],
   "source": [
    "# Sets an object to utilize the default declarative base in SQL Alchemy\n",
    "Base = declarative_base()"
   ]
  },
  {
   "cell_type": "code",
   "execution_count": 60,
   "metadata": {
    "ExecuteTime": {
     "end_time": "2021-02-20T08:09:45.674338Z",
     "start_time": "2021-02-20T08:09:45.662816Z"
    }
   },
   "outputs": [],
   "source": [
    "# Creates Classes which will serve as the anchor points for our Tables\n",
    "class data(Base):\n",
    "    __tablename__ = 'model_data'\n",
    "    index = Column(Integer, primary_key=True)\n",
    "    no_of_cases = Column(Integer)\n",
    "    no_of_trip = Column(Integer)\n",
    "    reduced_by = Column(Integer)"
   ]
  },
  {
   "cell_type": "code",
   "execution_count": 61,
   "metadata": {
    "ExecuteTime": {
     "end_time": "2021-02-20T08:09:45.722306Z",
     "start_time": "2021-02-20T08:09:45.681335Z"
    }
   },
   "outputs": [
    {
     "name": "stdout",
     "output_type": "stream",
     "text": [
      "2021-02-20 16:09:45,715 INFO sqlalchemy.engine.base.Engine SELECT CAST('test plain returns' AS VARCHAR(60)) AS anon_1\n",
      "2021-02-20 16:09:45,716 INFO sqlalchemy.engine.base.Engine ()\n",
      "2021-02-20 16:09:45,717 INFO sqlalchemy.engine.base.Engine SELECT CAST('test unicode returns' AS VARCHAR(60)) AS anon_1\n",
      "2021-02-20 16:09:45,718 INFO sqlalchemy.engine.base.Engine ()\n"
     ]
    }
   ],
   "source": [
    "engine = create_engine('sqlite:///modeldata.sqlite', echo=True)\n",
    "sqlite_connection = engine.connect()"
   ]
  },
  {
   "cell_type": "code",
   "execution_count": 62,
   "metadata": {
    "ExecuteTime": {
     "end_time": "2021-02-20T08:09:45.773316Z",
     "start_time": "2021-02-20T08:09:45.723306Z"
    }
   },
   "outputs": [
    {
     "name": "stdout",
     "output_type": "stream",
     "text": [
      "2021-02-20 16:09:45,725 INFO sqlalchemy.engine.base.Engine PRAGMA main.table_info(\"model_data\")\n",
      "2021-02-20 16:09:45,727 INFO sqlalchemy.engine.base.Engine ()\n",
      "2021-02-20 16:09:45,728 INFO sqlalchemy.engine.base.Engine PRAGMA temp.table_info(\"model_data\")\n",
      "2021-02-20 16:09:45,729 INFO sqlalchemy.engine.base.Engine ()\n",
      "2021-02-20 16:09:45,732 INFO sqlalchemy.engine.base.Engine \n",
      "CREATE TABLE model_data (\n",
      "\t\"index\" BIGINT, \n",
      "\tno_of_cases BIGINT, \n",
      "\tno_of_trip INTEGER, \n",
      "\treduced_by FLOAT\n",
      ")\n",
      "\n",
      "\n",
      "2021-02-20 16:09:45,733 INFO sqlalchemy.engine.base.Engine ()\n",
      "2021-02-20 16:09:45,743 INFO sqlalchemy.engine.base.Engine COMMIT\n",
      "2021-02-20 16:09:45,744 INFO sqlalchemy.engine.base.Engine CREATE INDEX ix_model_data_index ON model_data (\"index\")\n",
      "2021-02-20 16:09:45,744 INFO sqlalchemy.engine.base.Engine ()\n",
      "2021-02-20 16:09:45,755 INFO sqlalchemy.engine.base.Engine COMMIT\n",
      "2021-02-20 16:09:45,759 INFO sqlalchemy.engine.base.Engine BEGIN (implicit)\n",
      "2021-02-20 16:09:45,760 INFO sqlalchemy.engine.base.Engine INSERT INTO model_data (\"index\", no_of_cases, no_of_trip, reduced_by) VALUES (?, ?, ?, ?)\n",
      "2021-02-20 16:09:45,761 INFO sqlalchemy.engine.base.Engine ((0, 500, 68403, 0.0), (1, 1000, 63499, 0.0), (2, 1500, 58594, 0.0), (3, 2000, 53690, 0.0), (4, 2500, 48786, 0.0), (5, 3000, 43881, -0.06), (6, 3500, 38977, -0.17), (7, 4000, 34073, -0.27)  ... displaying 10 of 13 total bound parameter sets ...  (11, 6000, 14456, -0.69), (12, 6500, 9551, -0.8))\n",
      "2021-02-20 16:09:45,764 INFO sqlalchemy.engine.base.Engine COMMIT\n"
     ]
    }
   ],
   "source": [
    "sqlite_table = \"model_data\"\n",
    "prediction_df.to_sql(sqlite_table, sqlite_connection, if_exists='fail')"
   ]
  },
  {
   "cell_type": "code",
   "execution_count": 63,
   "metadata": {
    "ExecuteTime": {
     "end_time": "2021-02-20T08:09:45.786310Z",
     "start_time": "2021-02-20T08:09:45.775367Z"
    }
   },
   "outputs": [
    {
     "name": "stdout",
     "output_type": "stream",
     "text": [
      "2021-02-20 16:09:45,778 INFO sqlalchemy.engine.base.Engine PRAGMA main.table_info(\"model_data\")\n",
      "2021-02-20 16:09:45,780 INFO sqlalchemy.engine.base.Engine ()\n"
     ]
    }
   ],
   "source": [
    "# Create a \"Metadata\" Layer That Abstracts our SQL Database\n",
    "# ----------------------------------\n",
    "# Create (if not already in existence) the tables associated with our classes.\n",
    "Base.metadata.create_all(engine)\n",
    "\n",
    "# Use this to clear out the db\n",
    "# ----------------------------------\n",
    "# Base.metadata.drop_all(engine)"
   ]
  },
  {
   "cell_type": "code",
   "execution_count": 64,
   "metadata": {
    "ExecuteTime": {
     "end_time": "2021-02-20T08:09:45.793330Z",
     "start_time": "2021-02-20T08:09:45.789054Z"
    }
   },
   "outputs": [],
   "source": [
    "# Create a Session Object to Connect to DB\n",
    "# ----------------------------------\n",
    "# Session is a temporary binding to our DB\n",
    "from sqlalchemy.orm import Session\n",
    "session = Session(bind=engine)"
   ]
  },
  {
   "cell_type": "code",
   "execution_count": 65,
   "metadata": {
    "ExecuteTime": {
     "end_time": "2021-02-20T08:09:45.811309Z",
     "start_time": "2021-02-20T08:09:45.797358Z"
    }
   },
   "outputs": [
    {
     "name": "stdout",
     "output_type": "stream",
     "text": [
      "2021-02-20 16:09:45,803 INFO sqlalchemy.engine.base.Engine BEGIN (implicit)\n",
      "2021-02-20 16:09:45,804 INFO sqlalchemy.engine.base.Engine SELECT model_data.\"index\" AS model_data_index, model_data.no_of_cases AS model_data_no_of_cases, model_data.no_of_trip AS model_data_no_of_trip, model_data.reduced_by AS model_data_reduced_by \n",
      "FROM model_data\n",
      "2021-02-20 16:09:45,805 INFO sqlalchemy.engine.base.Engine ()\n",
      "0.0\n",
      "0.0\n",
      "0.0\n",
      "0.0\n",
      "0.0\n",
      "-0.06\n",
      "-0.17\n",
      "-0.27\n",
      "-0.38\n",
      "-0.48\n",
      "-0.59\n",
      "-0.69\n",
      "-0.8\n"
     ]
    }
   ],
   "source": [
    "# Query the Tables\n",
    "# ----------------------------------\n",
    "# Perform a simple query of the database\n",
    "data_check = session.query(data)\n",
    "for data in data_check:\n",
    "    print(data.reduced_by)"
   ]
  },
  {
   "cell_type": "code",
   "execution_count": null,
   "metadata": {},
   "outputs": [],
   "source": []
  }
 ],
 "metadata": {
  "hide_input": false,
  "kernelspec": {
   "display_name": "Python 3",
   "language": "python",
   "name": "python3"
  },
  "language_info": {
   "codemirror_mode": {
    "name": "ipython",
    "version": 3
   },
   "file_extension": ".py",
   "mimetype": "text/x-python",
   "name": "python",
   "nbconvert_exporter": "python",
   "pygments_lexer": "ipython3",
   "version": "3.7.9"
  },
  "varInspector": {
   "cols": {
    "lenName": 16,
    "lenType": 16,
    "lenVar": 40
   },
   "kernels_config": {
    "python": {
     "delete_cmd_postfix": "",
     "delete_cmd_prefix": "del ",
     "library": "var_list.py",
     "varRefreshCmd": "print(var_dic_list())"
    },
    "r": {
     "delete_cmd_postfix": ") ",
     "delete_cmd_prefix": "rm(",
     "library": "var_list.r",
     "varRefreshCmd": "cat(var_dic_list()) "
    }
   },
   "types_to_exclude": [
    "module",
    "function",
    "builtin_function_or_method",
    "instance",
    "_Feature"
   ],
   "window_display": false
  }
 },
 "nbformat": 4,
 "nbformat_minor": 4
}
