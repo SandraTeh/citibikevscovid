{
 "cells": [
  {
   "cell_type": "code",
   "execution_count": 1,
   "metadata": {
    "ExecuteTime": {
     "end_time": "2021-02-24T10:59:44.017845Z",
     "start_time": "2021-02-24T10:59:43.475651Z"
    }
   },
   "outputs": [],
   "source": [
    "#Import Pandas\n",
    "import pandas as pd"
   ]
  },
  {
   "cell_type": "code",
   "execution_count": 2,
   "metadata": {
    "ExecuteTime": {
     "end_time": "2021-02-24T10:59:44.022715Z",
     "start_time": "2021-02-24T10:59:44.019749Z"
    }
   },
   "outputs": [],
   "source": [
    "#get the file\n",
    "oct19_df = \"data/201910-citibike-tripdata.csv\"\n",
    "nov19_df = \"data/201911-citibike-tripdata.csv\"\n",
    "dec19_df = \"data/201912-citibike-tripdata.csv\"\n",
    "jan20_df = \"data/202001-citibike-tripdata.csv\""
   ]
  },
  {
   "cell_type": "code",
   "execution_count": 3,
   "metadata": {
    "ExecuteTime": {
     "end_time": "2021-02-24T11:00:00.954855Z",
     "start_time": "2021-02-24T10:59:44.025737Z"
    }
   },
   "outputs": [],
   "source": [
    "#read the data file\n",
    "df_oct19 = pd.read_csv(oct19_df)\n",
    "df_nov19 = pd.read_csv(nov19_df)\n",
    "df_dec19 = pd.read_csv(dec19_df)\n",
    "df_jan20 = pd.read_csv(jan20_df)"
   ]
  },
  {
   "cell_type": "code",
   "execution_count": 4,
   "metadata": {
    "ExecuteTime": {
     "end_time": "2021-02-24T11:00:00.965849Z",
     "start_time": "2021-02-24T11:00:00.961849Z"
    }
   },
   "outputs": [],
   "source": [
    "#combine citibike dataframe\n",
    "frames1 = [df_oct19, df_nov19, df_dec19, df_jan20]"
   ]
  },
  {
   "cell_type": "code",
   "execution_count": 5,
   "metadata": {
    "ExecuteTime": {
     "end_time": "2021-02-24T11:00:02.974396Z",
     "start_time": "2021-02-24T11:00:00.973855Z"
    }
   },
   "outputs": [],
   "source": [
    "citibike19 = pd.concat(frames1)"
   ]
  },
  {
   "cell_type": "code",
   "execution_count": 6,
   "metadata": {
    "ExecuteTime": {
     "end_time": "2021-02-24T11:00:03.045414Z",
     "start_time": "2021-02-24T11:00:02.975396Z"
    }
   },
   "outputs": [
    {
     "data": {
      "text/html": [
       "<div>\n",
       "<style scoped>\n",
       "    .dataframe tbody tr th:only-of-type {\n",
       "        vertical-align: middle;\n",
       "    }\n",
       "\n",
       "    .dataframe tbody tr th {\n",
       "        vertical-align: top;\n",
       "    }\n",
       "\n",
       "    .dataframe thead th {\n",
       "        text-align: right;\n",
       "    }\n",
       "</style>\n",
       "<table border=\"1\" class=\"dataframe\">\n",
       "  <thead>\n",
       "    <tr style=\"text-align: right;\">\n",
       "      <th></th>\n",
       "      <th>tripduration</th>\n",
       "      <th>starttime</th>\n",
       "      <th>stoptime</th>\n",
       "      <th>start station id</th>\n",
       "      <th>start station name</th>\n",
       "      <th>start station latitude</th>\n",
       "      <th>start station longitude</th>\n",
       "      <th>end station id</th>\n",
       "      <th>end station name</th>\n",
       "      <th>end station latitude</th>\n",
       "      <th>end station longitude</th>\n",
       "      <th>bikeid</th>\n",
       "      <th>usertype</th>\n",
       "      <th>birth year</th>\n",
       "      <th>gender</th>\n",
       "    </tr>\n",
       "  </thead>\n",
       "  <tbody>\n",
       "    <tr>\n",
       "      <th>0</th>\n",
       "      <td>527</td>\n",
       "      <td>2019-10-01 00:00:05.6180</td>\n",
       "      <td>2019-10-01 00:08:52.9430</td>\n",
       "      <td>3746</td>\n",
       "      <td>6 Ave &amp; Broome St</td>\n",
       "      <td>40.724308</td>\n",
       "      <td>-74.004730</td>\n",
       "      <td>223</td>\n",
       "      <td>W 13 St &amp; 7 Ave</td>\n",
       "      <td>40.737815</td>\n",
       "      <td>-73.999947</td>\n",
       "      <td>41750</td>\n",
       "      <td>Subscriber</td>\n",
       "      <td>1993</td>\n",
       "      <td>1</td>\n",
       "    </tr>\n",
       "    <tr>\n",
       "      <th>1</th>\n",
       "      <td>174</td>\n",
       "      <td>2019-10-01 00:00:15.8750</td>\n",
       "      <td>2019-10-01 00:03:10.1680</td>\n",
       "      <td>3301</td>\n",
       "      <td>Columbus Ave &amp; W 95 St</td>\n",
       "      <td>40.791956</td>\n",
       "      <td>-73.968087</td>\n",
       "      <td>3283</td>\n",
       "      <td>W 89 St &amp; Columbus Ave</td>\n",
       "      <td>40.788221</td>\n",
       "      <td>-73.970416</td>\n",
       "      <td>18264</td>\n",
       "      <td>Subscriber</td>\n",
       "      <td>1992</td>\n",
       "      <td>1</td>\n",
       "    </tr>\n",
       "    <tr>\n",
       "      <th>2</th>\n",
       "      <td>759</td>\n",
       "      <td>2019-10-01 00:00:19.8240</td>\n",
       "      <td>2019-10-01 00:12:59.7070</td>\n",
       "      <td>161</td>\n",
       "      <td>LaGuardia Pl &amp; W 3 St</td>\n",
       "      <td>40.729170</td>\n",
       "      <td>-73.998102</td>\n",
       "      <td>174</td>\n",
       "      <td>E 25 St &amp; 1 Ave</td>\n",
       "      <td>40.738177</td>\n",
       "      <td>-73.977387</td>\n",
       "      <td>25525</td>\n",
       "      <td>Subscriber</td>\n",
       "      <td>1995</td>\n",
       "      <td>1</td>\n",
       "    </tr>\n",
       "    <tr>\n",
       "      <th>3</th>\n",
       "      <td>615</td>\n",
       "      <td>2019-10-01 00:00:21.0680</td>\n",
       "      <td>2019-10-01 00:10:36.6790</td>\n",
       "      <td>254</td>\n",
       "      <td>W 11 St &amp; 6 Ave</td>\n",
       "      <td>40.735324</td>\n",
       "      <td>-73.998004</td>\n",
       "      <td>477</td>\n",
       "      <td>W 41 St &amp; 8 Ave</td>\n",
       "      <td>40.756405</td>\n",
       "      <td>-73.990026</td>\n",
       "      <td>30186</td>\n",
       "      <td>Subscriber</td>\n",
       "      <td>1992</td>\n",
       "      <td>1</td>\n",
       "    </tr>\n",
       "    <tr>\n",
       "      <th>4</th>\n",
       "      <td>761</td>\n",
       "      <td>2019-10-01 00:00:26.3800</td>\n",
       "      <td>2019-10-01 00:13:08.3130</td>\n",
       "      <td>161</td>\n",
       "      <td>LaGuardia Pl &amp; W 3 St</td>\n",
       "      <td>40.729170</td>\n",
       "      <td>-73.998102</td>\n",
       "      <td>174</td>\n",
       "      <td>E 25 St &amp; 1 Ave</td>\n",
       "      <td>40.738177</td>\n",
       "      <td>-73.977387</td>\n",
       "      <td>25597</td>\n",
       "      <td>Subscriber</td>\n",
       "      <td>1992</td>\n",
       "      <td>1</td>\n",
       "    </tr>\n",
       "  </tbody>\n",
       "</table>\n",
       "</div>"
      ],
      "text/plain": [
       "   tripduration                 starttime                  stoptime  \\\n",
       "0           527  2019-10-01 00:00:05.6180  2019-10-01 00:08:52.9430   \n",
       "1           174  2019-10-01 00:00:15.8750  2019-10-01 00:03:10.1680   \n",
       "2           759  2019-10-01 00:00:19.8240  2019-10-01 00:12:59.7070   \n",
       "3           615  2019-10-01 00:00:21.0680  2019-10-01 00:10:36.6790   \n",
       "4           761  2019-10-01 00:00:26.3800  2019-10-01 00:13:08.3130   \n",
       "\n",
       "   start station id      start station name  start station latitude  \\\n",
       "0              3746       6 Ave & Broome St               40.724308   \n",
       "1              3301  Columbus Ave & W 95 St               40.791956   \n",
       "2               161   LaGuardia Pl & W 3 St               40.729170   \n",
       "3               254         W 11 St & 6 Ave               40.735324   \n",
       "4               161   LaGuardia Pl & W 3 St               40.729170   \n",
       "\n",
       "   start station longitude  end station id        end station name  \\\n",
       "0               -74.004730             223         W 13 St & 7 Ave   \n",
       "1               -73.968087            3283  W 89 St & Columbus Ave   \n",
       "2               -73.998102             174         E 25 St & 1 Ave   \n",
       "3               -73.998004             477         W 41 St & 8 Ave   \n",
       "4               -73.998102             174         E 25 St & 1 Ave   \n",
       "\n",
       "   end station latitude  end station longitude  bikeid    usertype  \\\n",
       "0             40.737815             -73.999947   41750  Subscriber   \n",
       "1             40.788221             -73.970416   18264  Subscriber   \n",
       "2             40.738177             -73.977387   25525  Subscriber   \n",
       "3             40.756405             -73.990026   30186  Subscriber   \n",
       "4             40.738177             -73.977387   25597  Subscriber   \n",
       "\n",
       "   birth year  gender  \n",
       "0        1993       1  \n",
       "1        1992       1  \n",
       "2        1995       1  \n",
       "3        1992       1  \n",
       "4        1992       1  "
      ]
     },
     "execution_count": 6,
     "metadata": {},
     "output_type": "execute_result"
    }
   ],
   "source": [
    "citibike19.head()"
   ]
  },
  {
   "cell_type": "code",
   "execution_count": 7,
   "metadata": {
    "ExecuteTime": {
     "end_time": "2021-02-24T11:00:09.283033Z",
     "start_time": "2021-02-24T11:00:03.047404Z"
    }
   },
   "outputs": [],
   "source": [
    "citibike19[\"starttime\"] = pd.to_datetime(citibike19[\"starttime\"])"
   ]
  },
  {
   "cell_type": "code",
   "execution_count": 8,
   "metadata": {
    "ExecuteTime": {
     "end_time": "2021-02-24T11:00:10.943802Z",
     "start_time": "2021-02-24T11:00:09.284997Z"
    }
   },
   "outputs": [],
   "source": [
    "citibike19[\"date\"] = citibike19[\"starttime\"].dt.date"
   ]
  },
  {
   "cell_type": "code",
   "execution_count": 9,
   "metadata": {
    "ExecuteTime": {
     "end_time": "2021-02-24T11:00:14.200695Z",
     "start_time": "2021-02-24T11:00:10.945765Z"
    }
   },
   "outputs": [],
   "source": [
    "citibike_by_date19 = citibike19.groupby([citibike19['date'],citibike19['start station latitude'],citibike19['start station longitude']]).starttime.count()"
   ]
  },
  {
   "cell_type": "code",
   "execution_count": 10,
   "metadata": {
    "ExecuteTime": {
     "end_time": "2021-02-24T11:00:14.229701Z",
     "start_time": "2021-02-24T11:00:14.202654Z"
    }
   },
   "outputs": [],
   "source": [
    "citibike_by_date19 = pd.DataFrame(citibike_by_date19).reset_index()"
   ]
  },
  {
   "cell_type": "code",
   "execution_count": 11,
   "metadata": {
    "ExecuteTime": {
     "end_time": "2021-02-24T11:00:14.252664Z",
     "start_time": "2021-02-24T11:00:14.230654Z"
    }
   },
   "outputs": [],
   "source": [
    "citibike_by_date19 = citibike_by_date19.rename(columns={\"date\": \"date\",\"start station latitude\": \"lat\",\"start station longitude\": \"lon\",\"starttime\": \"no_of_trip\"})"
   ]
  },
  {
   "cell_type": "code",
   "execution_count": 13,
   "metadata": {
    "ExecuteTime": {
     "end_time": "2021-02-24T11:00:30.558767Z",
     "start_time": "2021-02-24T11:00:30.549780Z"
    }
   },
   "outputs": [
    {
     "data": {
      "text/html": [
       "<div>\n",
       "<style scoped>\n",
       "    .dataframe tbody tr th:only-of-type {\n",
       "        vertical-align: middle;\n",
       "    }\n",
       "\n",
       "    .dataframe tbody tr th {\n",
       "        vertical-align: top;\n",
       "    }\n",
       "\n",
       "    .dataframe thead th {\n",
       "        text-align: right;\n",
       "    }\n",
       "</style>\n",
       "<table border=\"1\" class=\"dataframe\">\n",
       "  <thead>\n",
       "    <tr style=\"text-align: right;\">\n",
       "      <th></th>\n",
       "      <th>date</th>\n",
       "      <th>lat</th>\n",
       "      <th>lon</th>\n",
       "      <th>no_of_trip</th>\n",
       "    </tr>\n",
       "  </thead>\n",
       "  <tbody>\n",
       "    <tr>\n",
       "      <th>0</th>\n",
       "      <td>2019-10-01</td>\n",
       "      <td>40.655400</td>\n",
       "      <td>-74.010628</td>\n",
       "      <td>8</td>\n",
       "    </tr>\n",
       "    <tr>\n",
       "      <th>1</th>\n",
       "      <td>2019-10-01</td>\n",
       "      <td>40.657089</td>\n",
       "      <td>-74.008702</td>\n",
       "      <td>16</td>\n",
       "    </tr>\n",
       "    <tr>\n",
       "      <th>2</th>\n",
       "      <td>2019-10-01</td>\n",
       "      <td>40.661063</td>\n",
       "      <td>-73.979453</td>\n",
       "      <td>45</td>\n",
       "    </tr>\n",
       "    <tr>\n",
       "      <th>3</th>\n",
       "      <td>2019-10-01</td>\n",
       "      <td>40.662706</td>\n",
       "      <td>-73.956912</td>\n",
       "      <td>7</td>\n",
       "    </tr>\n",
       "    <tr>\n",
       "      <th>4</th>\n",
       "      <td>2019-10-01</td>\n",
       "      <td>40.663062</td>\n",
       "      <td>-73.953875</td>\n",
       "      <td>22</td>\n",
       "    </tr>\n",
       "  </tbody>\n",
       "</table>\n",
       "</div>"
      ],
      "text/plain": [
       "         date        lat        lon  no_of_trip\n",
       "0  2019-10-01  40.655400 -74.010628           8\n",
       "1  2019-10-01  40.657089 -74.008702          16\n",
       "2  2019-10-01  40.661063 -73.979453          45\n",
       "3  2019-10-01  40.662706 -73.956912           7\n",
       "4  2019-10-01  40.663062 -73.953875          22"
      ]
     },
     "execution_count": 13,
     "metadata": {},
     "output_type": "execute_result"
    }
   ],
   "source": [
    "citibike_by_date19.head()"
   ]
  },
  {
   "cell_type": "code",
   "execution_count": 15,
   "metadata": {
    "ExecuteTime": {
     "end_time": "2021-02-24T11:00:42.708448Z",
     "start_time": "2021-02-24T11:00:42.088458Z"
    }
   },
   "outputs": [],
   "source": [
    "citibike_by_date19.to_csv('data\\historical.csv')"
   ]
  },
  {
   "cell_type": "code",
   "execution_count": null,
   "metadata": {},
   "outputs": [],
   "source": []
  }
 ],
 "metadata": {
  "hide_input": false,
  "kernelspec": {
   "display_name": "Python 3",
   "language": "python",
   "name": "python3"
  },
  "language_info": {
   "codemirror_mode": {
    "name": "ipython",
    "version": 3
   },
   "file_extension": ".py",
   "mimetype": "text/x-python",
   "name": "python",
   "nbconvert_exporter": "python",
   "pygments_lexer": "ipython3",
   "version": "3.7.9"
  },
  "varInspector": {
   "cols": {
    "lenName": 16,
    "lenType": 16,
    "lenVar": 40
   },
   "kernels_config": {
    "python": {
     "delete_cmd_postfix": "",
     "delete_cmd_prefix": "del ",
     "library": "var_list.py",
     "varRefreshCmd": "print(var_dic_list())"
    },
    "r": {
     "delete_cmd_postfix": ") ",
     "delete_cmd_prefix": "rm(",
     "library": "var_list.r",
     "varRefreshCmd": "cat(var_dic_list()) "
    }
   },
   "types_to_exclude": [
    "module",
    "function",
    "builtin_function_or_method",
    "instance",
    "_Feature"
   ],
   "window_display": false
  }
 },
 "nbformat": 4,
 "nbformat_minor": 4
}
