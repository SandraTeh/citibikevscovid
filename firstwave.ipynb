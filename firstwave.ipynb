{
 "cells": [
  {
   "cell_type": "code",
   "execution_count": 1,
   "metadata": {
    "ExecuteTime": {
     "end_time": "2021-02-19T06:45:21.070584Z",
     "start_time": "2021-02-19T06:45:19.635570Z"
    }
   },
   "outputs": [],
   "source": [
    "# Dependencies\n",
    "# ----------------------------------\n",
    "# Imports the method used for connecting to DBs\n",
    "from sqlalchemy import create_engine\n",
    "\n",
    "\n",
    "# Imports the methods needed to abstract classes into tables\n",
    "from sqlalchemy.ext.declarative import declarative_base\n",
    "\n",
    "# Allow us to declare column types\n",
    "from sqlalchemy import Column, Integer, String, Float, Date\n",
    "\n",
    "#Import Pandas\n",
    "import pandas as pd\n",
    "\n",
    "#Import datetime\n",
    "import datetime"
   ]
  },
  {
   "cell_type": "code",
   "execution_count": 2,
   "metadata": {
    "ExecuteTime": {
     "end_time": "2021-02-19T06:45:21.075549Z",
     "start_time": "2021-02-19T06:45:21.071585Z"
    }
   },
   "outputs": [],
   "source": [
    "#get the file\n",
    "mac_df = \"data/202003-citibike-tripdata.csv\"\n",
    "apr_df = \"data/202004-citibike-tripdata.csv\"\n",
    "may_df = \"data/202005-citibike-tripdata.csv\"\n",
    "jun_df = \"data/202006-citibike-tripdata.csv\"\n",
    "fcovid_df = \"data/firstccases.csv\""
   ]
  },
  {
   "cell_type": "code",
   "execution_count": 3,
   "metadata": {
    "ExecuteTime": {
     "end_time": "2021-02-19T06:45:35.996912Z",
     "start_time": "2021-02-19T06:45:21.077551Z"
    }
   },
   "outputs": [],
   "source": [
    "#read the data file\n",
    "df_mac = pd.read_csv(mac_df)\n",
    "df_apr = pd.read_csv(apr_df)\n",
    "df_may = pd.read_csv(may_df)\n",
    "df_jun = pd.read_csv(jun_df)\n",
    "df_fcovid = pd.read_csv(fcovid_df)"
   ]
  },
  {
   "cell_type": "code",
   "execution_count": 4,
   "metadata": {
    "ExecuteTime": {
     "end_time": "2021-02-19T06:45:36.013891Z",
     "start_time": "2021-02-19T06:45:36.004891Z"
    }
   },
   "outputs": [],
   "source": [
    "#combine citibike dataframe\n",
    "frames = [df_mac, df_apr, df_may, df_jun]"
   ]
  },
  {
   "cell_type": "code",
   "execution_count": 5,
   "metadata": {
    "ExecuteTime": {
     "end_time": "2021-02-19T06:45:43.320873Z",
     "start_time": "2021-02-19T06:45:36.016898Z"
    }
   },
   "outputs": [],
   "source": [
    "fcitibike = pd.concat(frames)"
   ]
  },
  {
   "cell_type": "code",
   "execution_count": 6,
   "metadata": {
    "ExecuteTime": {
     "end_time": "2021-02-19T06:45:43.468839Z",
     "start_time": "2021-02-19T06:45:43.323846Z"
    }
   },
   "outputs": [
    {
     "data": {
      "text/html": [
       "<div>\n",
       "<style scoped>\n",
       "    .dataframe tbody tr th:only-of-type {\n",
       "        vertical-align: middle;\n",
       "    }\n",
       "\n",
       "    .dataframe tbody tr th {\n",
       "        vertical-align: top;\n",
       "    }\n",
       "\n",
       "    .dataframe thead th {\n",
       "        text-align: right;\n",
       "    }\n",
       "</style>\n",
       "<table border=\"1\" class=\"dataframe\">\n",
       "  <thead>\n",
       "    <tr style=\"text-align: right;\">\n",
       "      <th></th>\n",
       "      <th>tripduration</th>\n",
       "      <th>starttime</th>\n",
       "      <th>stoptime</th>\n",
       "      <th>start station id</th>\n",
       "      <th>start station name</th>\n",
       "      <th>start station latitude</th>\n",
       "      <th>start station longitude</th>\n",
       "      <th>end station id</th>\n",
       "      <th>end station name</th>\n",
       "      <th>end station latitude</th>\n",
       "      <th>end station longitude</th>\n",
       "      <th>bikeid</th>\n",
       "      <th>usertype</th>\n",
       "      <th>birth year</th>\n",
       "      <th>gender</th>\n",
       "    </tr>\n",
       "  </thead>\n",
       "  <tbody>\n",
       "    <tr>\n",
       "      <th>0</th>\n",
       "      <td>1589</td>\n",
       "      <td>2020-03-01 00:00:03.6400</td>\n",
       "      <td>2020-03-01 00:26:32.9860</td>\n",
       "      <td>224</td>\n",
       "      <td>Spruce St &amp; Nassau St</td>\n",
       "      <td>40.711464</td>\n",
       "      <td>-74.005524</td>\n",
       "      <td>3574</td>\n",
       "      <td>Prospect Pl &amp; Underhill Ave</td>\n",
       "      <td>40.676969</td>\n",
       "      <td>-73.965790</td>\n",
       "      <td>16214</td>\n",
       "      <td>Subscriber</td>\n",
       "      <td>1980</td>\n",
       "      <td>1</td>\n",
       "    </tr>\n",
       "    <tr>\n",
       "      <th>1</th>\n",
       "      <td>389</td>\n",
       "      <td>2020-03-01 00:00:16.7560</td>\n",
       "      <td>2020-03-01 00:06:46.0620</td>\n",
       "      <td>293</td>\n",
       "      <td>Lafayette St &amp; E 8 St</td>\n",
       "      <td>40.730207</td>\n",
       "      <td>-73.991026</td>\n",
       "      <td>223</td>\n",
       "      <td>W 13 St &amp; 7 Ave</td>\n",
       "      <td>40.737815</td>\n",
       "      <td>-73.999947</td>\n",
       "      <td>29994</td>\n",
       "      <td>Subscriber</td>\n",
       "      <td>1991</td>\n",
       "      <td>2</td>\n",
       "    </tr>\n",
       "    <tr>\n",
       "      <th>2</th>\n",
       "      <td>614</td>\n",
       "      <td>2020-03-01 00:00:20.0580</td>\n",
       "      <td>2020-03-01 00:10:34.2200</td>\n",
       "      <td>379</td>\n",
       "      <td>W 31 St &amp; 7 Ave</td>\n",
       "      <td>40.749156</td>\n",
       "      <td>-73.991600</td>\n",
       "      <td>515</td>\n",
       "      <td>W 43 St &amp; 10 Ave</td>\n",
       "      <td>40.760094</td>\n",
       "      <td>-73.994618</td>\n",
       "      <td>39853</td>\n",
       "      <td>Subscriber</td>\n",
       "      <td>1991</td>\n",
       "      <td>1</td>\n",
       "    </tr>\n",
       "    <tr>\n",
       "      <th>3</th>\n",
       "      <td>597</td>\n",
       "      <td>2020-03-01 00:00:24.3510</td>\n",
       "      <td>2020-03-01 00:10:22.3390</td>\n",
       "      <td>3739</td>\n",
       "      <td>Perry St &amp; Greenwich Ave</td>\n",
       "      <td>40.735918</td>\n",
       "      <td>-74.000939</td>\n",
       "      <td>325</td>\n",
       "      <td>E 19 St &amp; 3 Ave</td>\n",
       "      <td>40.736245</td>\n",
       "      <td>-73.984738</td>\n",
       "      <td>42608</td>\n",
       "      <td>Subscriber</td>\n",
       "      <td>1989</td>\n",
       "      <td>1</td>\n",
       "    </tr>\n",
       "    <tr>\n",
       "      <th>4</th>\n",
       "      <td>1920</td>\n",
       "      <td>2020-03-01 00:00:26.1120</td>\n",
       "      <td>2020-03-01 00:32:26.2680</td>\n",
       "      <td>236</td>\n",
       "      <td>St Marks Pl &amp; 2 Ave</td>\n",
       "      <td>40.728419</td>\n",
       "      <td>-73.987140</td>\n",
       "      <td>3124</td>\n",
       "      <td>46 Ave &amp; 5 St</td>\n",
       "      <td>40.747310</td>\n",
       "      <td>-73.954510</td>\n",
       "      <td>36288</td>\n",
       "      <td>Subscriber</td>\n",
       "      <td>1993</td>\n",
       "      <td>1</td>\n",
       "    </tr>\n",
       "  </tbody>\n",
       "</table>\n",
       "</div>"
      ],
      "text/plain": [
       "   tripduration                 starttime                  stoptime  \\\n",
       "0          1589  2020-03-01 00:00:03.6400  2020-03-01 00:26:32.9860   \n",
       "1           389  2020-03-01 00:00:16.7560  2020-03-01 00:06:46.0620   \n",
       "2           614  2020-03-01 00:00:20.0580  2020-03-01 00:10:34.2200   \n",
       "3           597  2020-03-01 00:00:24.3510  2020-03-01 00:10:22.3390   \n",
       "4          1920  2020-03-01 00:00:26.1120  2020-03-01 00:32:26.2680   \n",
       "\n",
       "   start station id        start station name  start station latitude  \\\n",
       "0               224     Spruce St & Nassau St               40.711464   \n",
       "1               293     Lafayette St & E 8 St               40.730207   \n",
       "2               379           W 31 St & 7 Ave               40.749156   \n",
       "3              3739  Perry St & Greenwich Ave               40.735918   \n",
       "4               236       St Marks Pl & 2 Ave               40.728419   \n",
       "\n",
       "   start station longitude  end station id             end station name  \\\n",
       "0               -74.005524            3574  Prospect Pl & Underhill Ave   \n",
       "1               -73.991026             223              W 13 St & 7 Ave   \n",
       "2               -73.991600             515             W 43 St & 10 Ave   \n",
       "3               -74.000939             325              E 19 St & 3 Ave   \n",
       "4               -73.987140            3124                46 Ave & 5 St   \n",
       "\n",
       "   end station latitude  end station longitude  bikeid    usertype  \\\n",
       "0             40.676969             -73.965790   16214  Subscriber   \n",
       "1             40.737815             -73.999947   29994  Subscriber   \n",
       "2             40.760094             -73.994618   39853  Subscriber   \n",
       "3             40.736245             -73.984738   42608  Subscriber   \n",
       "4             40.747310             -73.954510   36288  Subscriber   \n",
       "\n",
       "   birth year  gender  \n",
       "0        1980       1  \n",
       "1        1991       2  \n",
       "2        1991       1  \n",
       "3        1989       1  \n",
       "4        1993       1  "
      ]
     },
     "execution_count": 6,
     "metadata": {},
     "output_type": "execute_result"
    }
   ],
   "source": [
    "fcitibike.head()"
   ]
  },
  {
   "cell_type": "code",
   "execution_count": 7,
   "metadata": {
    "ExecuteTime": {
     "end_time": "2021-02-19T06:45:50.489349Z",
     "start_time": "2021-02-19T06:45:43.470840Z"
    }
   },
   "outputs": [],
   "source": [
    "fcitibike[\"starttime\"] = pd.to_datetime(fcitibike[\"starttime\"])"
   ]
  },
  {
   "cell_type": "code",
   "execution_count": 8,
   "metadata": {
    "ExecuteTime": {
     "end_time": "2021-02-19T06:45:51.944414Z",
     "start_time": "2021-02-19T06:45:50.494352Z"
    }
   },
   "outputs": [],
   "source": [
    "fcitibike[\"date\"] = fcitibike[\"starttime\"].dt.date"
   ]
  },
  {
   "cell_type": "code",
   "execution_count": 9,
   "metadata": {
    "ExecuteTime": {
     "end_time": "2021-02-19T06:45:51.966415Z",
     "start_time": "2021-02-19T06:45:51.946472Z"
    }
   },
   "outputs": [
    {
     "data": {
      "text/html": [
       "<div>\n",
       "<style scoped>\n",
       "    .dataframe tbody tr th:only-of-type {\n",
       "        vertical-align: middle;\n",
       "    }\n",
       "\n",
       "    .dataframe tbody tr th {\n",
       "        vertical-align: top;\n",
       "    }\n",
       "\n",
       "    .dataframe thead th {\n",
       "        text-align: right;\n",
       "    }\n",
       "</style>\n",
       "<table border=\"1\" class=\"dataframe\">\n",
       "  <thead>\n",
       "    <tr style=\"text-align: right;\">\n",
       "      <th></th>\n",
       "      <th>tripduration</th>\n",
       "      <th>starttime</th>\n",
       "      <th>stoptime</th>\n",
       "      <th>start station id</th>\n",
       "      <th>start station name</th>\n",
       "      <th>start station latitude</th>\n",
       "      <th>start station longitude</th>\n",
       "      <th>end station id</th>\n",
       "      <th>end station name</th>\n",
       "      <th>end station latitude</th>\n",
       "      <th>end station longitude</th>\n",
       "      <th>bikeid</th>\n",
       "      <th>usertype</th>\n",
       "      <th>birth year</th>\n",
       "      <th>gender</th>\n",
       "      <th>date</th>\n",
       "    </tr>\n",
       "  </thead>\n",
       "  <tbody>\n",
       "    <tr>\n",
       "      <th>0</th>\n",
       "      <td>1589</td>\n",
       "      <td>2020-03-01 00:00:03.640</td>\n",
       "      <td>2020-03-01 00:26:32.9860</td>\n",
       "      <td>224</td>\n",
       "      <td>Spruce St &amp; Nassau St</td>\n",
       "      <td>40.711464</td>\n",
       "      <td>-74.005524</td>\n",
       "      <td>3574</td>\n",
       "      <td>Prospect Pl &amp; Underhill Ave</td>\n",
       "      <td>40.676969</td>\n",
       "      <td>-73.965790</td>\n",
       "      <td>16214</td>\n",
       "      <td>Subscriber</td>\n",
       "      <td>1980</td>\n",
       "      <td>1</td>\n",
       "      <td>2020-03-01</td>\n",
       "    </tr>\n",
       "    <tr>\n",
       "      <th>1</th>\n",
       "      <td>389</td>\n",
       "      <td>2020-03-01 00:00:16.756</td>\n",
       "      <td>2020-03-01 00:06:46.0620</td>\n",
       "      <td>293</td>\n",
       "      <td>Lafayette St &amp; E 8 St</td>\n",
       "      <td>40.730207</td>\n",
       "      <td>-73.991026</td>\n",
       "      <td>223</td>\n",
       "      <td>W 13 St &amp; 7 Ave</td>\n",
       "      <td>40.737815</td>\n",
       "      <td>-73.999947</td>\n",
       "      <td>29994</td>\n",
       "      <td>Subscriber</td>\n",
       "      <td>1991</td>\n",
       "      <td>2</td>\n",
       "      <td>2020-03-01</td>\n",
       "    </tr>\n",
       "    <tr>\n",
       "      <th>2</th>\n",
       "      <td>614</td>\n",
       "      <td>2020-03-01 00:00:20.058</td>\n",
       "      <td>2020-03-01 00:10:34.2200</td>\n",
       "      <td>379</td>\n",
       "      <td>W 31 St &amp; 7 Ave</td>\n",
       "      <td>40.749156</td>\n",
       "      <td>-73.991600</td>\n",
       "      <td>515</td>\n",
       "      <td>W 43 St &amp; 10 Ave</td>\n",
       "      <td>40.760094</td>\n",
       "      <td>-73.994618</td>\n",
       "      <td>39853</td>\n",
       "      <td>Subscriber</td>\n",
       "      <td>1991</td>\n",
       "      <td>1</td>\n",
       "      <td>2020-03-01</td>\n",
       "    </tr>\n",
       "    <tr>\n",
       "      <th>3</th>\n",
       "      <td>597</td>\n",
       "      <td>2020-03-01 00:00:24.351</td>\n",
       "      <td>2020-03-01 00:10:22.3390</td>\n",
       "      <td>3739</td>\n",
       "      <td>Perry St &amp; Greenwich Ave</td>\n",
       "      <td>40.735918</td>\n",
       "      <td>-74.000939</td>\n",
       "      <td>325</td>\n",
       "      <td>E 19 St &amp; 3 Ave</td>\n",
       "      <td>40.736245</td>\n",
       "      <td>-73.984738</td>\n",
       "      <td>42608</td>\n",
       "      <td>Subscriber</td>\n",
       "      <td>1989</td>\n",
       "      <td>1</td>\n",
       "      <td>2020-03-01</td>\n",
       "    </tr>\n",
       "    <tr>\n",
       "      <th>4</th>\n",
       "      <td>1920</td>\n",
       "      <td>2020-03-01 00:00:26.112</td>\n",
       "      <td>2020-03-01 00:32:26.2680</td>\n",
       "      <td>236</td>\n",
       "      <td>St Marks Pl &amp; 2 Ave</td>\n",
       "      <td>40.728419</td>\n",
       "      <td>-73.987140</td>\n",
       "      <td>3124</td>\n",
       "      <td>46 Ave &amp; 5 St</td>\n",
       "      <td>40.747310</td>\n",
       "      <td>-73.954510</td>\n",
       "      <td>36288</td>\n",
       "      <td>Subscriber</td>\n",
       "      <td>1993</td>\n",
       "      <td>1</td>\n",
       "      <td>2020-03-01</td>\n",
       "    </tr>\n",
       "  </tbody>\n",
       "</table>\n",
       "</div>"
      ],
      "text/plain": [
       "   tripduration               starttime                  stoptime  \\\n",
       "0          1589 2020-03-01 00:00:03.640  2020-03-01 00:26:32.9860   \n",
       "1           389 2020-03-01 00:00:16.756  2020-03-01 00:06:46.0620   \n",
       "2           614 2020-03-01 00:00:20.058  2020-03-01 00:10:34.2200   \n",
       "3           597 2020-03-01 00:00:24.351  2020-03-01 00:10:22.3390   \n",
       "4          1920 2020-03-01 00:00:26.112  2020-03-01 00:32:26.2680   \n",
       "\n",
       "   start station id        start station name  start station latitude  \\\n",
       "0               224     Spruce St & Nassau St               40.711464   \n",
       "1               293     Lafayette St & E 8 St               40.730207   \n",
       "2               379           W 31 St & 7 Ave               40.749156   \n",
       "3              3739  Perry St & Greenwich Ave               40.735918   \n",
       "4               236       St Marks Pl & 2 Ave               40.728419   \n",
       "\n",
       "   start station longitude  end station id             end station name  \\\n",
       "0               -74.005524            3574  Prospect Pl & Underhill Ave   \n",
       "1               -73.991026             223              W 13 St & 7 Ave   \n",
       "2               -73.991600             515             W 43 St & 10 Ave   \n",
       "3               -74.000939             325              E 19 St & 3 Ave   \n",
       "4               -73.987140            3124                46 Ave & 5 St   \n",
       "\n",
       "   end station latitude  end station longitude  bikeid    usertype  \\\n",
       "0             40.676969             -73.965790   16214  Subscriber   \n",
       "1             40.737815             -73.999947   29994  Subscriber   \n",
       "2             40.760094             -73.994618   39853  Subscriber   \n",
       "3             40.736245             -73.984738   42608  Subscriber   \n",
       "4             40.747310             -73.954510   36288  Subscriber   \n",
       "\n",
       "   birth year  gender        date  \n",
       "0        1980       1  2020-03-01  \n",
       "1        1991       2  2020-03-01  \n",
       "2        1991       1  2020-03-01  \n",
       "3        1989       1  2020-03-01  \n",
       "4        1993       1  2020-03-01  "
      ]
     },
     "execution_count": 9,
     "metadata": {},
     "output_type": "execute_result"
    }
   ],
   "source": [
    "fcitibike.head()"
   ]
  },
  {
   "cell_type": "code",
   "execution_count": 10,
   "metadata": {
    "ExecuteTime": {
     "end_time": "2021-02-19T06:45:58.193047Z",
     "start_time": "2021-02-19T06:45:51.970421Z"
    }
   },
   "outputs": [],
   "source": [
    "fcitibike_by_date = fcitibike.groupby([fcitibike['date']]).starttime.count()"
   ]
  },
  {
   "cell_type": "code",
   "execution_count": 11,
   "metadata": {
    "ExecuteTime": {
     "end_time": "2021-02-19T06:45:58.210063Z",
     "start_time": "2021-02-19T06:45:58.200066Z"
    }
   },
   "outputs": [],
   "source": [
    "fcitibike_by_date = pd.DataFrame(fcitibike_by_date)"
   ]
  },
  {
   "cell_type": "code",
   "execution_count": 12,
   "metadata": {
    "ExecuteTime": {
     "end_time": "2021-02-19T06:45:58.234079Z",
     "start_time": "2021-02-19T06:45:58.213078Z"
    }
   },
   "outputs": [
    {
     "data": {
      "text/html": [
       "<div>\n",
       "<style scoped>\n",
       "    .dataframe tbody tr th:only-of-type {\n",
       "        vertical-align: middle;\n",
       "    }\n",
       "\n",
       "    .dataframe tbody tr th {\n",
       "        vertical-align: top;\n",
       "    }\n",
       "\n",
       "    .dataframe thead th {\n",
       "        text-align: right;\n",
       "    }\n",
       "</style>\n",
       "<table border=\"1\" class=\"dataframe\">\n",
       "  <thead>\n",
       "    <tr style=\"text-align: right;\">\n",
       "      <th></th>\n",
       "      <th>starttime</th>\n",
       "    </tr>\n",
       "    <tr>\n",
       "      <th>date</th>\n",
       "      <th></th>\n",
       "    </tr>\n",
       "  </thead>\n",
       "  <tbody>\n",
       "    <tr>\n",
       "      <th>2020-03-01</th>\n",
       "      <td>31878</td>\n",
       "    </tr>\n",
       "    <tr>\n",
       "      <th>2020-03-02</th>\n",
       "      <td>56946</td>\n",
       "    </tr>\n",
       "    <tr>\n",
       "      <th>2020-03-03</th>\n",
       "      <td>49723</td>\n",
       "    </tr>\n",
       "    <tr>\n",
       "      <th>2020-03-04</th>\n",
       "      <td>58670</td>\n",
       "    </tr>\n",
       "    <tr>\n",
       "      <th>2020-03-05</th>\n",
       "      <td>58686</td>\n",
       "    </tr>\n",
       "  </tbody>\n",
       "</table>\n",
       "</div>"
      ],
      "text/plain": [
       "            starttime\n",
       "date                 \n",
       "2020-03-01      31878\n",
       "2020-03-02      56946\n",
       "2020-03-03      49723\n",
       "2020-03-04      58670\n",
       "2020-03-05      58686"
      ]
     },
     "execution_count": 12,
     "metadata": {},
     "output_type": "execute_result"
    }
   ],
   "source": [
    "fcitibike_by_date.head()"
   ]
  },
  {
   "cell_type": "code",
   "execution_count": 13,
   "metadata": {
    "ExecuteTime": {
     "end_time": "2021-02-19T06:45:58.249058Z",
     "start_time": "2021-02-19T06:45:58.237063Z"
    }
   },
   "outputs": [],
   "source": [
    "fcitibike_by_date=fcitibike_by_date.rename(columns={\"date\": \"date\", \"starttime\": \"no_of_trip\"})"
   ]
  },
  {
   "cell_type": "code",
   "execution_count": 14,
   "metadata": {
    "ExecuteTime": {
     "end_time": "2021-02-19T06:45:58.268089Z",
     "start_time": "2021-02-19T06:45:58.252066Z"
    }
   },
   "outputs": [
    {
     "data": {
      "text/html": [
       "<div>\n",
       "<style scoped>\n",
       "    .dataframe tbody tr th:only-of-type {\n",
       "        vertical-align: middle;\n",
       "    }\n",
       "\n",
       "    .dataframe tbody tr th {\n",
       "        vertical-align: top;\n",
       "    }\n",
       "\n",
       "    .dataframe thead th {\n",
       "        text-align: right;\n",
       "    }\n",
       "</style>\n",
       "<table border=\"1\" class=\"dataframe\">\n",
       "  <thead>\n",
       "    <tr style=\"text-align: right;\">\n",
       "      <th></th>\n",
       "      <th>Date</th>\n",
       "      <th>Confirmed Cases</th>\n",
       "      <th>cases_per_day</th>\n",
       "      <th>Deaths</th>\n",
       "      <th>Deaths per day</th>\n",
       "    </tr>\n",
       "  </thead>\n",
       "  <tbody>\n",
       "    <tr>\n",
       "      <th>0</th>\n",
       "      <td>01/03/2020</td>\n",
       "      <td>1</td>\n",
       "      <td>0</td>\n",
       "      <td>2</td>\n",
       "      <td>1</td>\n",
       "    </tr>\n",
       "    <tr>\n",
       "      <th>1</th>\n",
       "      <td>02/03/2020</td>\n",
       "      <td>1</td>\n",
       "      <td>0</td>\n",
       "      <td>4</td>\n",
       "      <td>2</td>\n",
       "    </tr>\n",
       "    <tr>\n",
       "      <th>2</th>\n",
       "      <td>03/03/2020</td>\n",
       "      <td>2</td>\n",
       "      <td>1</td>\n",
       "      <td>11</td>\n",
       "      <td>7</td>\n",
       "    </tr>\n",
       "    <tr>\n",
       "      <th>3</th>\n",
       "      <td>04/03/2020</td>\n",
       "      <td>7</td>\n",
       "      <td>5</td>\n",
       "      <td>13</td>\n",
       "      <td>2</td>\n",
       "    </tr>\n",
       "    <tr>\n",
       "      <th>4</th>\n",
       "      <td>05/03/2020</td>\n",
       "      <td>10</td>\n",
       "      <td>3</td>\n",
       "      <td>27</td>\n",
       "      <td>14</td>\n",
       "    </tr>\n",
       "  </tbody>\n",
       "</table>\n",
       "</div>"
      ],
      "text/plain": [
       "         Date  Confirmed Cases  cases_per_day  Deaths  Deaths per day\n",
       "0  01/03/2020                1              0       2               1\n",
       "1  02/03/2020                1              0       4               2\n",
       "2  03/03/2020                2              1      11               7\n",
       "3  04/03/2020                7              5      13               2\n",
       "4  05/03/2020               10              3      27              14"
      ]
     },
     "execution_count": 14,
     "metadata": {},
     "output_type": "execute_result"
    }
   ],
   "source": [
    "df_fcovid.head()"
   ]
  },
  {
   "cell_type": "code",
   "execution_count": 15,
   "metadata": {
    "ExecuteTime": {
     "end_time": "2021-02-19T06:45:58.298085Z",
     "start_time": "2021-02-19T06:45:58.272054Z"
    }
   },
   "outputs": [],
   "source": [
    "df_fcovid[\"Date\"] = pd.to_datetime(df_fcovid[\"Date\"], format='%d/%m/%Y')"
   ]
  },
  {
   "cell_type": "code",
   "execution_count": 16,
   "metadata": {
    "ExecuteTime": {
     "end_time": "2021-02-19T06:45:58.308096Z",
     "start_time": "2021-02-19T06:45:58.300060Z"
    }
   },
   "outputs": [],
   "source": [
    "df_fcovid[\"date\"] = df_fcovid[\"Date\"].dt.date"
   ]
  },
  {
   "cell_type": "code",
   "execution_count": 17,
   "metadata": {
    "ExecuteTime": {
     "end_time": "2021-02-19T06:45:58.333047Z",
     "start_time": "2021-02-19T06:45:58.312054Z"
    }
   },
   "outputs": [
    {
     "data": {
      "text/html": [
       "<div>\n",
       "<style scoped>\n",
       "    .dataframe tbody tr th:only-of-type {\n",
       "        vertical-align: middle;\n",
       "    }\n",
       "\n",
       "    .dataframe tbody tr th {\n",
       "        vertical-align: top;\n",
       "    }\n",
       "\n",
       "    .dataframe thead th {\n",
       "        text-align: right;\n",
       "    }\n",
       "</style>\n",
       "<table border=\"1\" class=\"dataframe\">\n",
       "  <thead>\n",
       "    <tr style=\"text-align: right;\">\n",
       "      <th></th>\n",
       "      <th>Date</th>\n",
       "      <th>Confirmed Cases</th>\n",
       "      <th>cases_per_day</th>\n",
       "      <th>Deaths</th>\n",
       "      <th>Deaths per day</th>\n",
       "      <th>date</th>\n",
       "    </tr>\n",
       "  </thead>\n",
       "  <tbody>\n",
       "    <tr>\n",
       "      <th>0</th>\n",
       "      <td>2020-03-01</td>\n",
       "      <td>1</td>\n",
       "      <td>0</td>\n",
       "      <td>2</td>\n",
       "      <td>1</td>\n",
       "      <td>2020-03-01</td>\n",
       "    </tr>\n",
       "    <tr>\n",
       "      <th>1</th>\n",
       "      <td>2020-03-02</td>\n",
       "      <td>1</td>\n",
       "      <td>0</td>\n",
       "      <td>4</td>\n",
       "      <td>2</td>\n",
       "      <td>2020-03-02</td>\n",
       "    </tr>\n",
       "    <tr>\n",
       "      <th>2</th>\n",
       "      <td>2020-03-03</td>\n",
       "      <td>2</td>\n",
       "      <td>1</td>\n",
       "      <td>11</td>\n",
       "      <td>7</td>\n",
       "      <td>2020-03-03</td>\n",
       "    </tr>\n",
       "    <tr>\n",
       "      <th>3</th>\n",
       "      <td>2020-03-04</td>\n",
       "      <td>7</td>\n",
       "      <td>5</td>\n",
       "      <td>13</td>\n",
       "      <td>2</td>\n",
       "      <td>2020-03-04</td>\n",
       "    </tr>\n",
       "    <tr>\n",
       "      <th>4</th>\n",
       "      <td>2020-03-05</td>\n",
       "      <td>10</td>\n",
       "      <td>3</td>\n",
       "      <td>27</td>\n",
       "      <td>14</td>\n",
       "      <td>2020-03-05</td>\n",
       "    </tr>\n",
       "  </tbody>\n",
       "</table>\n",
       "</div>"
      ],
      "text/plain": [
       "        Date  Confirmed Cases  cases_per_day  Deaths  Deaths per day  \\\n",
       "0 2020-03-01                1              0       2               1   \n",
       "1 2020-03-02                1              0       4               2   \n",
       "2 2020-03-03                2              1      11               7   \n",
       "3 2020-03-04                7              5      13               2   \n",
       "4 2020-03-05               10              3      27              14   \n",
       "\n",
       "         date  \n",
       "0  2020-03-01  \n",
       "1  2020-03-02  \n",
       "2  2020-03-03  \n",
       "3  2020-03-04  \n",
       "4  2020-03-05  "
      ]
     },
     "execution_count": 17,
     "metadata": {},
     "output_type": "execute_result"
    }
   ],
   "source": [
    "df_fcovid.head()"
   ]
  },
  {
   "cell_type": "code",
   "execution_count": 18,
   "metadata": {
    "ExecuteTime": {
     "end_time": "2021-02-19T06:45:58.344063Z",
     "start_time": "2021-02-19T06:45:58.337048Z"
    }
   },
   "outputs": [],
   "source": [
    "fcovid_df_by_date = df_fcovid[[\"date\",\"cases_per_day\"]]"
   ]
  },
  {
   "cell_type": "code",
   "execution_count": 19,
   "metadata": {
    "ExecuteTime": {
     "end_time": "2021-02-19T06:45:58.361084Z",
     "start_time": "2021-02-19T06:45:58.348095Z"
    }
   },
   "outputs": [
    {
     "data": {
      "text/html": [
       "<div>\n",
       "<style scoped>\n",
       "    .dataframe tbody tr th:only-of-type {\n",
       "        vertical-align: middle;\n",
       "    }\n",
       "\n",
       "    .dataframe tbody tr th {\n",
       "        vertical-align: top;\n",
       "    }\n",
       "\n",
       "    .dataframe thead th {\n",
       "        text-align: right;\n",
       "    }\n",
       "</style>\n",
       "<table border=\"1\" class=\"dataframe\">\n",
       "  <thead>\n",
       "    <tr style=\"text-align: right;\">\n",
       "      <th></th>\n",
       "      <th>date</th>\n",
       "      <th>cases_per_day</th>\n",
       "    </tr>\n",
       "  </thead>\n",
       "  <tbody>\n",
       "    <tr>\n",
       "      <th>0</th>\n",
       "      <td>2020-03-01</td>\n",
       "      <td>0</td>\n",
       "    </tr>\n",
       "    <tr>\n",
       "      <th>1</th>\n",
       "      <td>2020-03-02</td>\n",
       "      <td>0</td>\n",
       "    </tr>\n",
       "    <tr>\n",
       "      <th>2</th>\n",
       "      <td>2020-03-03</td>\n",
       "      <td>1</td>\n",
       "    </tr>\n",
       "    <tr>\n",
       "      <th>3</th>\n",
       "      <td>2020-03-04</td>\n",
       "      <td>5</td>\n",
       "    </tr>\n",
       "    <tr>\n",
       "      <th>4</th>\n",
       "      <td>2020-03-05</td>\n",
       "      <td>3</td>\n",
       "    </tr>\n",
       "  </tbody>\n",
       "</table>\n",
       "</div>"
      ],
      "text/plain": [
       "         date  cases_per_day\n",
       "0  2020-03-01              0\n",
       "1  2020-03-02              0\n",
       "2  2020-03-03              1\n",
       "3  2020-03-04              5\n",
       "4  2020-03-05              3"
      ]
     },
     "execution_count": 19,
     "metadata": {},
     "output_type": "execute_result"
    }
   ],
   "source": [
    "fcovid_df_by_date.head()"
   ]
  },
  {
   "cell_type": "code",
   "execution_count": 20,
   "metadata": {
    "ExecuteTime": {
     "end_time": "2021-02-19T06:45:58.387089Z",
     "start_time": "2021-02-19T06:45:58.364061Z"
    }
   },
   "outputs": [],
   "source": [
    "fcitibike_covid_df = fcovid_df_by_date.merge(fcitibike_by_date, how=\"inner\", on =\"date\")"
   ]
  },
  {
   "cell_type": "code",
   "execution_count": 21,
   "metadata": {
    "ExecuteTime": {
     "end_time": "2021-02-19T06:45:58.418052Z",
     "start_time": "2021-02-19T06:45:58.391052Z"
    }
   },
   "outputs": [
    {
     "data": {
      "text/html": [
       "<div>\n",
       "<style scoped>\n",
       "    .dataframe tbody tr th:only-of-type {\n",
       "        vertical-align: middle;\n",
       "    }\n",
       "\n",
       "    .dataframe tbody tr th {\n",
       "        vertical-align: top;\n",
       "    }\n",
       "\n",
       "    .dataframe thead th {\n",
       "        text-align: right;\n",
       "    }\n",
       "</style>\n",
       "<table border=\"1\" class=\"dataframe\">\n",
       "  <thead>\n",
       "    <tr style=\"text-align: right;\">\n",
       "      <th></th>\n",
       "      <th>date</th>\n",
       "      <th>cases_per_day</th>\n",
       "      <th>no_of_trip</th>\n",
       "    </tr>\n",
       "  </thead>\n",
       "  <tbody>\n",
       "    <tr>\n",
       "      <th>0</th>\n",
       "      <td>2020-03-01</td>\n",
       "      <td>0</td>\n",
       "      <td>31878</td>\n",
       "    </tr>\n",
       "    <tr>\n",
       "      <th>1</th>\n",
       "      <td>2020-03-02</td>\n",
       "      <td>0</td>\n",
       "      <td>56946</td>\n",
       "    </tr>\n",
       "    <tr>\n",
       "      <th>2</th>\n",
       "      <td>2020-03-03</td>\n",
       "      <td>1</td>\n",
       "      <td>49723</td>\n",
       "    </tr>\n",
       "    <tr>\n",
       "      <th>3</th>\n",
       "      <td>2020-03-04</td>\n",
       "      <td>5</td>\n",
       "      <td>58670</td>\n",
       "    </tr>\n",
       "    <tr>\n",
       "      <th>4</th>\n",
       "      <td>2020-03-05</td>\n",
       "      <td>3</td>\n",
       "      <td>58686</td>\n",
       "    </tr>\n",
       "    <tr>\n",
       "      <th>...</th>\n",
       "      <td>...</td>\n",
       "      <td>...</td>\n",
       "      <td>...</td>\n",
       "    </tr>\n",
       "    <tr>\n",
       "      <th>117</th>\n",
       "      <td>2020-06-26</td>\n",
       "      <td>316</td>\n",
       "      <td>73638</td>\n",
       "    </tr>\n",
       "    <tr>\n",
       "      <th>118</th>\n",
       "      <td>2020-06-27</td>\n",
       "      <td>206</td>\n",
       "      <td>59221</td>\n",
       "    </tr>\n",
       "    <tr>\n",
       "      <th>119</th>\n",
       "      <td>2020-06-28</td>\n",
       "      <td>202</td>\n",
       "      <td>69104</td>\n",
       "    </tr>\n",
       "    <tr>\n",
       "      <th>120</th>\n",
       "      <td>2020-06-29</td>\n",
       "      <td>437</td>\n",
       "      <td>61574</td>\n",
       "    </tr>\n",
       "    <tr>\n",
       "      <th>121</th>\n",
       "      <td>2020-06-30</td>\n",
       "      <td>441</td>\n",
       "      <td>65102</td>\n",
       "    </tr>\n",
       "  </tbody>\n",
       "</table>\n",
       "<p>122 rows × 3 columns</p>\n",
       "</div>"
      ],
      "text/plain": [
       "           date  cases_per_day  no_of_trip\n",
       "0    2020-03-01              0       31878\n",
       "1    2020-03-02              0       56946\n",
       "2    2020-03-03              1       49723\n",
       "3    2020-03-04              5       58670\n",
       "4    2020-03-05              3       58686\n",
       "..          ...            ...         ...\n",
       "117  2020-06-26            316       73638\n",
       "118  2020-06-27            206       59221\n",
       "119  2020-06-28            202       69104\n",
       "120  2020-06-29            437       61574\n",
       "121  2020-06-30            441       65102\n",
       "\n",
       "[122 rows x 3 columns]"
      ]
     },
     "execution_count": 21,
     "metadata": {},
     "output_type": "execute_result"
    }
   ],
   "source": [
    "fcitibike_covid_df "
   ]
  },
  {
   "cell_type": "code",
   "execution_count": 22,
   "metadata": {
    "ExecuteTime": {
     "end_time": "2021-02-19T06:45:58.481088Z",
     "start_time": "2021-02-19T06:45:58.420055Z"
    }
   },
   "outputs": [
    {
     "data": {
      "text/html": [
       "<div>\n",
       "<style scoped>\n",
       "    .dataframe tbody tr th:only-of-type {\n",
       "        vertical-align: middle;\n",
       "    }\n",
       "\n",
       "    .dataframe tbody tr th {\n",
       "        vertical-align: top;\n",
       "    }\n",
       "\n",
       "    .dataframe thead th {\n",
       "        text-align: right;\n",
       "    }\n",
       "</style>\n",
       "<table border=\"1\" class=\"dataframe\">\n",
       "  <thead>\n",
       "    <tr style=\"text-align: right;\">\n",
       "      <th></th>\n",
       "      <th>date</th>\n",
       "      <th>cases_per_day</th>\n",
       "      <th>no_of_trip</th>\n",
       "      <th>last_seven_days_cases</th>\n",
       "      <th>last_seven_days_no_of_trip</th>\n",
       "    </tr>\n",
       "  </thead>\n",
       "  <tbody>\n",
       "    <tr>\n",
       "      <th>0</th>\n",
       "      <td>2020-03-01</td>\n",
       "      <td>0</td>\n",
       "      <td>31878</td>\n",
       "      <td>0.000000</td>\n",
       "      <td>31878.000000</td>\n",
       "    </tr>\n",
       "    <tr>\n",
       "      <th>1</th>\n",
       "      <td>2020-03-02</td>\n",
       "      <td>0</td>\n",
       "      <td>56946</td>\n",
       "      <td>0.000000</td>\n",
       "      <td>44412.000000</td>\n",
       "    </tr>\n",
       "    <tr>\n",
       "      <th>2</th>\n",
       "      <td>2020-03-03</td>\n",
       "      <td>1</td>\n",
       "      <td>49723</td>\n",
       "      <td>0.333333</td>\n",
       "      <td>46182.333333</td>\n",
       "    </tr>\n",
       "    <tr>\n",
       "      <th>3</th>\n",
       "      <td>2020-03-04</td>\n",
       "      <td>5</td>\n",
       "      <td>58670</td>\n",
       "      <td>1.500000</td>\n",
       "      <td>49304.250000</td>\n",
       "    </tr>\n",
       "    <tr>\n",
       "      <th>4</th>\n",
       "      <td>2020-03-05</td>\n",
       "      <td>3</td>\n",
       "      <td>58686</td>\n",
       "      <td>1.800000</td>\n",
       "      <td>51180.600000</td>\n",
       "    </tr>\n",
       "    <tr>\n",
       "      <th>5</th>\n",
       "      <td>2020-03-06</td>\n",
       "      <td>8</td>\n",
       "      <td>34135</td>\n",
       "      <td>2.833333</td>\n",
       "      <td>48339.666667</td>\n",
       "    </tr>\n",
       "    <tr>\n",
       "      <th>6</th>\n",
       "      <td>2020-03-07</td>\n",
       "      <td>7</td>\n",
       "      <td>39448</td>\n",
       "      <td>3.428571</td>\n",
       "      <td>47069.428571</td>\n",
       "    </tr>\n",
       "    <tr>\n",
       "      <th>7</th>\n",
       "      <td>2020-03-08</td>\n",
       "      <td>22</td>\n",
       "      <td>46994</td>\n",
       "      <td>6.571429</td>\n",
       "      <td>49228.857143</td>\n",
       "    </tr>\n",
       "    <tr>\n",
       "      <th>8</th>\n",
       "      <td>2020-03-09</td>\n",
       "      <td>57</td>\n",
       "      <td>68768</td>\n",
       "      <td>14.714286</td>\n",
       "      <td>50917.714286</td>\n",
       "    </tr>\n",
       "    <tr>\n",
       "      <th>9</th>\n",
       "      <td>2020-03-10</td>\n",
       "      <td>69</td>\n",
       "      <td>64277</td>\n",
       "      <td>24.428571</td>\n",
       "      <td>52996.857143</td>\n",
       "    </tr>\n",
       "    <tr>\n",
       "      <th>10</th>\n",
       "      <td>2020-03-11</td>\n",
       "      <td>155</td>\n",
       "      <td>61816</td>\n",
       "      <td>45.857143</td>\n",
       "      <td>53446.285714</td>\n",
       "    </tr>\n",
       "    <tr>\n",
       "      <th>11</th>\n",
       "      <td>2020-03-12</td>\n",
       "      <td>355</td>\n",
       "      <td>51332</td>\n",
       "      <td>96.142857</td>\n",
       "      <td>52395.714286</td>\n",
       "    </tr>\n",
       "    <tr>\n",
       "      <th>12</th>\n",
       "      <td>2020-03-13</td>\n",
       "      <td>619</td>\n",
       "      <td>43343</td>\n",
       "      <td>183.428571</td>\n",
       "      <td>53711.142857</td>\n",
       "    </tr>\n",
       "    <tr>\n",
       "      <th>13</th>\n",
       "      <td>2020-03-14</td>\n",
       "      <td>642</td>\n",
       "      <td>44239</td>\n",
       "      <td>274.142857</td>\n",
       "      <td>54395.571429</td>\n",
       "    </tr>\n",
       "  </tbody>\n",
       "</table>\n",
       "</div>"
      ],
      "text/plain": [
       "          date  cases_per_day  no_of_trip  last_seven_days_cases  \\\n",
       "0   2020-03-01              0       31878               0.000000   \n",
       "1   2020-03-02              0       56946               0.000000   \n",
       "2   2020-03-03              1       49723               0.333333   \n",
       "3   2020-03-04              5       58670               1.500000   \n",
       "4   2020-03-05              3       58686               1.800000   \n",
       "5   2020-03-06              8       34135               2.833333   \n",
       "6   2020-03-07              7       39448               3.428571   \n",
       "7   2020-03-08             22       46994               6.571429   \n",
       "8   2020-03-09             57       68768              14.714286   \n",
       "9   2020-03-10             69       64277              24.428571   \n",
       "10  2020-03-11            155       61816              45.857143   \n",
       "11  2020-03-12            355       51332              96.142857   \n",
       "12  2020-03-13            619       43343             183.428571   \n",
       "13  2020-03-14            642       44239             274.142857   \n",
       "\n",
       "    last_seven_days_no_of_trip  \n",
       "0                 31878.000000  \n",
       "1                 44412.000000  \n",
       "2                 46182.333333  \n",
       "3                 49304.250000  \n",
       "4                 51180.600000  \n",
       "5                 48339.666667  \n",
       "6                 47069.428571  \n",
       "7                 49228.857143  \n",
       "8                 50917.714286  \n",
       "9                 52996.857143  \n",
       "10                53446.285714  \n",
       "11                52395.714286  \n",
       "12                53711.142857  \n",
       "13                54395.571429  "
      ]
     },
     "execution_count": 22,
     "metadata": {},
     "output_type": "execute_result"
    }
   ],
   "source": [
    "fcitibike_covid_df = fcitibike_covid_df.sort_values('date')\n",
    "seven_days = pd.Timedelta(days=7)\n",
    "seven_days_date = (fcitibike_covid_df[\"date\"] + seven_days)\n",
    "fcitibike_covid_df[\"last_seven_days_cases\"] = fcitibike_covid_df['cases_per_day'].rolling(min_periods=0, window=7).mean()\n",
    "fcitibike_covid_df[\"last_seven_days_no_of_trip\"] = fcitibike_covid_df['no_of_trip'].rolling(min_periods=0, window=7).mean()\n",
    "fcitibike_covid_df.head(14)"
   ]
  },
  {
   "cell_type": "code",
   "execution_count": 23,
   "metadata": {
    "ExecuteTime": {
     "end_time": "2021-02-19T06:45:58.514083Z",
     "start_time": "2021-02-19T06:45:58.508081Z"
    }
   },
   "outputs": [],
   "source": [
    "fcitibike_covid_df[\"date\"] = pd.to_datetime(fcitibike_covid_df[\"date\"] , format='%Y-%m-%d')"
   ]
  },
  {
   "cell_type": "code",
   "execution_count": 24,
   "metadata": {
    "ExecuteTime": {
     "end_time": "2021-02-19T06:45:58.523087Z",
     "start_time": "2021-02-19T06:45:58.517084Z"
    }
   },
   "outputs": [],
   "source": [
    "fcitibike_covid_df[\"date\"] = fcitibike_covid_df[\"date\"].dt.date"
   ]
  },
  {
   "cell_type": "code",
   "execution_count": 25,
   "metadata": {
    "ExecuteTime": {
     "end_time": "2021-02-19T06:45:58.550105Z",
     "start_time": "2021-02-19T06:45:58.525048Z"
    }
   },
   "outputs": [
    {
     "data": {
      "text/html": [
       "<div>\n",
       "<style scoped>\n",
       "    .dataframe tbody tr th:only-of-type {\n",
       "        vertical-align: middle;\n",
       "    }\n",
       "\n",
       "    .dataframe tbody tr th {\n",
       "        vertical-align: top;\n",
       "    }\n",
       "\n",
       "    .dataframe thead th {\n",
       "        text-align: right;\n",
       "    }\n",
       "</style>\n",
       "<table border=\"1\" class=\"dataframe\">\n",
       "  <thead>\n",
       "    <tr style=\"text-align: right;\">\n",
       "      <th></th>\n",
       "      <th>date</th>\n",
       "      <th>cases_per_day</th>\n",
       "      <th>no_of_trip</th>\n",
       "      <th>last_seven_days_cases</th>\n",
       "      <th>last_seven_days_no_of_trip</th>\n",
       "    </tr>\n",
       "  </thead>\n",
       "  <tbody>\n",
       "    <tr>\n",
       "      <th>0</th>\n",
       "      <td>2020-03-01</td>\n",
       "      <td>0</td>\n",
       "      <td>31878</td>\n",
       "      <td>0.000000</td>\n",
       "      <td>31878.000000</td>\n",
       "    </tr>\n",
       "    <tr>\n",
       "      <th>1</th>\n",
       "      <td>2020-03-02</td>\n",
       "      <td>0</td>\n",
       "      <td>56946</td>\n",
       "      <td>0.000000</td>\n",
       "      <td>44412.000000</td>\n",
       "    </tr>\n",
       "    <tr>\n",
       "      <th>2</th>\n",
       "      <td>2020-03-03</td>\n",
       "      <td>1</td>\n",
       "      <td>49723</td>\n",
       "      <td>0.333333</td>\n",
       "      <td>46182.333333</td>\n",
       "    </tr>\n",
       "    <tr>\n",
       "      <th>3</th>\n",
       "      <td>2020-03-04</td>\n",
       "      <td>5</td>\n",
       "      <td>58670</td>\n",
       "      <td>1.500000</td>\n",
       "      <td>49304.250000</td>\n",
       "    </tr>\n",
       "    <tr>\n",
       "      <th>4</th>\n",
       "      <td>2020-03-05</td>\n",
       "      <td>3</td>\n",
       "      <td>58686</td>\n",
       "      <td>1.800000</td>\n",
       "      <td>51180.600000</td>\n",
       "    </tr>\n",
       "    <tr>\n",
       "      <th>5</th>\n",
       "      <td>2020-03-06</td>\n",
       "      <td>8</td>\n",
       "      <td>34135</td>\n",
       "      <td>2.833333</td>\n",
       "      <td>48339.666667</td>\n",
       "    </tr>\n",
       "    <tr>\n",
       "      <th>6</th>\n",
       "      <td>2020-03-07</td>\n",
       "      <td>7</td>\n",
       "      <td>39448</td>\n",
       "      <td>3.428571</td>\n",
       "      <td>47069.428571</td>\n",
       "    </tr>\n",
       "    <tr>\n",
       "      <th>7</th>\n",
       "      <td>2020-03-08</td>\n",
       "      <td>22</td>\n",
       "      <td>46994</td>\n",
       "      <td>6.571429</td>\n",
       "      <td>49228.857143</td>\n",
       "    </tr>\n",
       "    <tr>\n",
       "      <th>8</th>\n",
       "      <td>2020-03-09</td>\n",
       "      <td>57</td>\n",
       "      <td>68768</td>\n",
       "      <td>14.714286</td>\n",
       "      <td>50917.714286</td>\n",
       "    </tr>\n",
       "    <tr>\n",
       "      <th>9</th>\n",
       "      <td>2020-03-10</td>\n",
       "      <td>69</td>\n",
       "      <td>64277</td>\n",
       "      <td>24.428571</td>\n",
       "      <td>52996.857143</td>\n",
       "    </tr>\n",
       "    <tr>\n",
       "      <th>10</th>\n",
       "      <td>2020-03-11</td>\n",
       "      <td>155</td>\n",
       "      <td>61816</td>\n",
       "      <td>45.857143</td>\n",
       "      <td>53446.285714</td>\n",
       "    </tr>\n",
       "    <tr>\n",
       "      <th>11</th>\n",
       "      <td>2020-03-12</td>\n",
       "      <td>355</td>\n",
       "      <td>51332</td>\n",
       "      <td>96.142857</td>\n",
       "      <td>52395.714286</td>\n",
       "    </tr>\n",
       "    <tr>\n",
       "      <th>12</th>\n",
       "      <td>2020-03-13</td>\n",
       "      <td>619</td>\n",
       "      <td>43343</td>\n",
       "      <td>183.428571</td>\n",
       "      <td>53711.142857</td>\n",
       "    </tr>\n",
       "    <tr>\n",
       "      <th>13</th>\n",
       "      <td>2020-03-14</td>\n",
       "      <td>642</td>\n",
       "      <td>44239</td>\n",
       "      <td>274.142857</td>\n",
       "      <td>54395.571429</td>\n",
       "    </tr>\n",
       "  </tbody>\n",
       "</table>\n",
       "</div>"
      ],
      "text/plain": [
       "          date  cases_per_day  no_of_trip  last_seven_days_cases  \\\n",
       "0   2020-03-01              0       31878               0.000000   \n",
       "1   2020-03-02              0       56946               0.000000   \n",
       "2   2020-03-03              1       49723               0.333333   \n",
       "3   2020-03-04              5       58670               1.500000   \n",
       "4   2020-03-05              3       58686               1.800000   \n",
       "5   2020-03-06              8       34135               2.833333   \n",
       "6   2020-03-07              7       39448               3.428571   \n",
       "7   2020-03-08             22       46994               6.571429   \n",
       "8   2020-03-09             57       68768              14.714286   \n",
       "9   2020-03-10             69       64277              24.428571   \n",
       "10  2020-03-11            155       61816              45.857143   \n",
       "11  2020-03-12            355       51332              96.142857   \n",
       "12  2020-03-13            619       43343             183.428571   \n",
       "13  2020-03-14            642       44239             274.142857   \n",
       "\n",
       "    last_seven_days_no_of_trip  \n",
       "0                 31878.000000  \n",
       "1                 44412.000000  \n",
       "2                 46182.333333  \n",
       "3                 49304.250000  \n",
       "4                 51180.600000  \n",
       "5                 48339.666667  \n",
       "6                 47069.428571  \n",
       "7                 49228.857143  \n",
       "8                 50917.714286  \n",
       "9                 52996.857143  \n",
       "10                53446.285714  \n",
       "11                52395.714286  \n",
       "12                53711.142857  \n",
       "13                54395.571429  "
      ]
     },
     "execution_count": 25,
     "metadata": {},
     "output_type": "execute_result"
    }
   ],
   "source": [
    "fcitibike_covid_df.head(14)"
   ]
  },
  {
   "cell_type": "code",
   "execution_count": 26,
   "metadata": {
    "ExecuteTime": {
     "end_time": "2021-02-19T06:45:58.558089Z",
     "start_time": "2021-02-19T06:45:58.552058Z"
    }
   },
   "outputs": [],
   "source": [
    "fcitibike_covid_df = fcitibike_covid_df.iloc[6:]"
   ]
  },
  {
   "cell_type": "code",
   "execution_count": 27,
   "metadata": {
    "ExecuteTime": {
     "end_time": "2021-02-19T06:45:58.588091Z",
     "start_time": "2021-02-19T06:45:58.561059Z"
    }
   },
   "outputs": [
    {
     "data": {
      "text/html": [
       "<div>\n",
       "<style scoped>\n",
       "    .dataframe tbody tr th:only-of-type {\n",
       "        vertical-align: middle;\n",
       "    }\n",
       "\n",
       "    .dataframe tbody tr th {\n",
       "        vertical-align: top;\n",
       "    }\n",
       "\n",
       "    .dataframe thead th {\n",
       "        text-align: right;\n",
       "    }\n",
       "</style>\n",
       "<table border=\"1\" class=\"dataframe\">\n",
       "  <thead>\n",
       "    <tr style=\"text-align: right;\">\n",
       "      <th></th>\n",
       "      <th>date</th>\n",
       "      <th>cases_per_day</th>\n",
       "      <th>no_of_trip</th>\n",
       "      <th>last_seven_days_cases</th>\n",
       "      <th>last_seven_days_no_of_trip</th>\n",
       "    </tr>\n",
       "  </thead>\n",
       "  <tbody>\n",
       "    <tr>\n",
       "      <th>6</th>\n",
       "      <td>2020-03-07</td>\n",
       "      <td>7</td>\n",
       "      <td>39448</td>\n",
       "      <td>3.428571</td>\n",
       "      <td>47069.428571</td>\n",
       "    </tr>\n",
       "    <tr>\n",
       "      <th>7</th>\n",
       "      <td>2020-03-08</td>\n",
       "      <td>22</td>\n",
       "      <td>46994</td>\n",
       "      <td>6.571429</td>\n",
       "      <td>49228.857143</td>\n",
       "    </tr>\n",
       "    <tr>\n",
       "      <th>8</th>\n",
       "      <td>2020-03-09</td>\n",
       "      <td>57</td>\n",
       "      <td>68768</td>\n",
       "      <td>14.714286</td>\n",
       "      <td>50917.714286</td>\n",
       "    </tr>\n",
       "    <tr>\n",
       "      <th>9</th>\n",
       "      <td>2020-03-10</td>\n",
       "      <td>69</td>\n",
       "      <td>64277</td>\n",
       "      <td>24.428571</td>\n",
       "      <td>52996.857143</td>\n",
       "    </tr>\n",
       "    <tr>\n",
       "      <th>10</th>\n",
       "      <td>2020-03-11</td>\n",
       "      <td>155</td>\n",
       "      <td>61816</td>\n",
       "      <td>45.857143</td>\n",
       "      <td>53446.285714</td>\n",
       "    </tr>\n",
       "  </tbody>\n",
       "</table>\n",
       "</div>"
      ],
      "text/plain": [
       "          date  cases_per_day  no_of_trip  last_seven_days_cases  \\\n",
       "6   2020-03-07              7       39448               3.428571   \n",
       "7   2020-03-08             22       46994               6.571429   \n",
       "8   2020-03-09             57       68768              14.714286   \n",
       "9   2020-03-10             69       64277              24.428571   \n",
       "10  2020-03-11            155       61816              45.857143   \n",
       "\n",
       "    last_seven_days_no_of_trip  \n",
       "6                 47069.428571  \n",
       "7                 49228.857143  \n",
       "8                 50917.714286  \n",
       "9                 52996.857143  \n",
       "10                53446.285714  "
      ]
     },
     "execution_count": 27,
     "metadata": {},
     "output_type": "execute_result"
    }
   ],
   "source": [
    "fcitibike_covid_df.head()"
   ]
  },
  {
   "cell_type": "code",
   "execution_count": 28,
   "metadata": {
    "ExecuteTime": {
     "end_time": "2021-02-19T06:45:58.629077Z",
     "start_time": "2021-02-19T06:45:58.590051Z"
    }
   },
   "outputs": [],
   "source": [
    "fcitibike_covid_df.to_csv(r'data/data1.csv',index=False)"
   ]
  },
  {
   "cell_type": "code",
   "execution_count": 29,
   "metadata": {
    "ExecuteTime": {
     "end_time": "2021-02-19T06:45:59.804053Z",
     "start_time": "2021-02-19T06:45:58.636068Z"
    }
   },
   "outputs": [
    {
     "data": {
      "image/png": "[encoded data removed]",
      "text/plain": [
       "<Figure size 432x288 with 2 Axes>"
      ]
     },
     "metadata": {
      "needs_background": "light"
     },
     "output_type": "display_data"
    }
   ],
   "source": [
    "import matplotlib.pyplot as plt\n",
    "\n",
    "t = fcitibike_covid_df['date']\n",
    "data1 = fcitibike_covid_df['last_seven_days_cases']\n",
    "data2 = fcitibike_covid_df['last_seven_days_no_of_trip']\n",
    "\n",
    "fig, ax1 = plt.subplots()\n",
    "plt.xticks(rotation = 45)\n",
    "\n",
    "color = 'tab:red'\n",
    "ax1.set_xlabel('date')\n",
    "ax1.set_ylabel('Average cases for past 7 days', color=color)\n",
    "ax1.plot(t, data1, color=color)\n",
    "ax1.tick_params(axis='y', labelcolor=color)\n",
    "\n",
    "ax2 = ax1.twinx()  # instantiate a second axes that shares the same x-axis\n",
    "\n",
    "color = 'tab:blue'\n",
    "ax2.set_ylabel('Average trips for past 7 days', color=color)  # we already handled the x-label with ax1\n",
    "ax2.plot(t, data2, color=color)\n",
    "ax2.tick_params(axis='y', labelcolor=color)\n",
    "\n",
    "fig.tight_layout()  # otherwise the right y-label is slightly clipped\n",
    "plt.savefig('static\\\\images\\linegraph.jpg',dpi=300)\n",
    "plt.show()"
   ]
  },
  {
   "cell_type": "code",
   "execution_count": 30,
   "metadata": {
    "ExecuteTime": {
     "end_time": "2021-02-19T06:45:59.811050Z",
     "start_time": "2021-02-19T06:45:59.806053Z"
    }
   },
   "outputs": [],
   "source": [
    "%matplotlib inline\n",
    "import matplotlib.pyplot as plt\n",
    "import numpy as np\n",
    "import pandas as pd"
   ]
  },
  {
   "cell_type": "code",
   "execution_count": 31,
   "metadata": {
    "ExecuteTime": {
     "end_time": "2021-02-19T06:45:59.824091Z",
     "start_time": "2021-02-19T06:45:59.813048Z"
    }
   },
   "outputs": [
    {
     "name": "stdout",
     "output_type": "stream",
     "text": [
      "(116, 1) (116, 1)\n"
     ]
    }
   ],
   "source": [
    "# Assign the data to X and y\n",
    "\n",
    "X = fcitibike_covid_df[[\"last_seven_days_cases\"]].values.reshape(-1, 1)\n",
    "y = fcitibike_covid_df[\"last_seven_days_no_of_trip\"].values.reshape(-1, 1)\n",
    "print(X.shape, y.shape)"
   ]
  },
  {
   "cell_type": "code",
   "execution_count": 32,
   "metadata": {
    "ExecuteTime": {
     "end_time": "2021-02-19T06:46:01.353455Z",
     "start_time": "2021-02-19T06:45:59.826048Z"
    }
   },
   "outputs": [],
   "source": [
    "# Use train_test_split to create training and testing data\n",
    "\n",
    "### BEGIN SOLUTION\n",
    "from sklearn.model_selection import train_test_split\n",
    "\n",
    "X_train, X_test, y_train, y_test = train_test_split(X, y, random_state=42)\n",
    "\n",
    "### END SOLUTION"
   ]
  },
  {
   "cell_type": "code",
   "execution_count": 33,
   "metadata": {
    "ExecuteTime": {
     "end_time": "2021-02-19T06:46:01.425446Z",
     "start_time": "2021-02-19T06:46:01.354441Z"
    }
   },
   "outputs": [],
   "source": [
    "# Create the model using LinearRegression\n",
    "\n",
    "### BEGIN SOLUTION\n",
    "from sklearn.linear_model import LinearRegression\n",
    "model = LinearRegression()\n",
    "### END SOLUTION"
   ]
  },
  {
   "cell_type": "code",
   "execution_count": 34,
   "metadata": {
    "ExecuteTime": {
     "end_time": "2021-02-19T06:46:01.439460Z",
     "start_time": "2021-02-19T06:46:01.426441Z"
    }
   },
   "outputs": [
    {
     "name": "stdout",
     "output_type": "stream",
     "text": [
      "Training Score: 0.7805568353180559\n",
      "Testing Score: 0.6973221846526876\n"
     ]
    }
   ],
   "source": [
    "# Fit the model to the training data and calculate the scores for the training and testing data\n",
    "\n",
    "### BEGIN SOLUTION\n",
    "model.fit(X_train, y_train)\n",
    "training_score = model.score(X_train, y_train)\n",
    "testing_score = model.score(X_test, y_test)\n",
    "\n",
    "### END SOLUTION \n",
    "\n",
    "print(f\"Training Score: {training_score}\")\n",
    "print(f\"Testing Score: {testing_score}\")"
   ]
  },
  {
   "cell_type": "code",
   "execution_count": 35,
   "metadata": {
    "ExecuteTime": {
     "end_time": "2021-02-19T06:46:01.739510Z",
     "start_time": "2021-02-19T06:46:01.446463Z"
    }
   },
   "outputs": [
    {
     "data": {
      "image/png": "[encoded data removed]",
      "text/plain": [
       "<Figure size 432x288 with 1 Axes>"
      ]
     },
     "metadata": {
      "needs_background": "light"
     },
     "output_type": "display_data"
    }
   ],
   "source": [
    "plt.scatter(X, y)\n",
    "plt.show()"
   ]
  },
  {
   "cell_type": "code",
   "execution_count": 36,
   "metadata": {
    "ExecuteTime": {
     "end_time": "2021-02-19T06:46:01.746510Z",
     "start_time": "2021-02-19T06:46:01.741510Z"
    }
   },
   "outputs": [
    {
     "name": "stdout",
     "output_type": "stream",
     "text": [
      "Weight coefficients:  [[-9.37735733]]\n",
      "y-axis intercept:  [59077.90184842]\n"
     ]
    }
   ],
   "source": [
    "# Print the coefficient and the intercept for the model\n",
    "\n",
    "### BEGIN SOLUTION\n",
    "print('Weight coefficients: ', model.coef_)\n",
    "print('y-axis intercept: ', model.intercept_)\n",
    "### END SOLUTION"
   ]
  },
  {
   "cell_type": "code",
   "execution_count": 37,
   "metadata": {
    "ExecuteTime": {
     "end_time": "2021-02-19T06:46:01.756510Z",
     "start_time": "2021-02-19T06:46:01.748514Z"
    }
   },
   "outputs": [
    {
     "name": "stdout",
     "output_type": "stream",
     "text": [
      "Min X Value: [[3.42857143]]\n",
      "Max X Value: [[5290.85714286]]\n"
     ]
    }
   ],
   "source": [
    "# Note: we have to transform our min and max values \n",
    "# so they are in the format: array([[ 1.17]])\n",
    "# This is the required format for `model.predict()`\n",
    "\n",
    "x_min = np.array([[X.min()]])\n",
    "x_max = np.array([[X.max()]])\n",
    "print(f\"Min X Value: {x_min}\")\n",
    "print(f\"Max X Value: {x_max}\")"
   ]
  },
  {
   "cell_type": "code",
   "execution_count": 38,
   "metadata": {
    "ExecuteTime": {
     "end_time": "2021-02-19T06:46:01.769532Z",
     "start_time": "2021-02-19T06:46:01.758509Z"
    }
   },
   "outputs": [],
   "source": [
    "# Calculate the y_min and y_max using model.predict and x_min and x_max\n",
    "\n",
    "### BEGIN SOLUTION\n",
    "y_min = model.predict(x_min)\n",
    "y_max = model.predict(x_max)\n",
    "### END SOLUTION"
   ]
  },
  {
   "cell_type": "code",
   "execution_count": 39,
   "metadata": {
    "ExecuteTime": {
     "end_time": "2021-02-19T06:46:02.699715Z",
     "start_time": "2021-02-19T06:46:01.773511Z"
    }
   },
   "outputs": [
    {
     "data": {
      "image/png": "[encoded data removed]",
      "text/plain": [
       "<Figure size 432x288 with 1 Axes>"
      ]
     },
     "metadata": {
      "needs_background": "light"
     },
     "output_type": "display_data"
    }
   ],
   "source": [
    "# Plot X and y using plt.scatter\n",
    "# Plot the model fit line using [x_min[0], x_max[0]], [y_min[0], y_max[0]]\n",
    "\n",
    "### BEGIN SOLUTION\n",
    "plt.scatter(X, y, c='blue')\n",
    "plt.plot([x_min[0], x_max[0]], [y_min[0], y_max[0]], c='red')\n",
    "plt.savefig('static\\\\images\\lr.jpg',dpi=300)\n",
    "plt.xlabel('covid cases for past 7 days')\n",
    "plt.ylabel('no of trip for past 7 days')\n",
    "plt.title('First Wave Linear Regression')\n",
    "plt.savefig('static\\\\images\\lr.jpg',dpi=300)\n",
    "plt.show()\n",
    "### END SOLUTION"
   ]
  },
  {
   "cell_type": "markdown",
   "metadata": {},
   "source": [
    "The linear model now looks like this:\n",
    "\n",
    "y=73307.74332843-9.80861441x"
   ]
  },
  {
   "cell_type": "code",
   "execution_count": 40,
   "metadata": {
    "ExecuteTime": {
     "end_time": "2021-02-19T06:46:12.645392Z",
     "start_time": "2021-02-19T06:46:02.707713Z"
    }
   },
   "outputs": [],
   "source": [
    "from sklearn.svm import SVR\n",
    "svr_rbf = SVR(kernel='rbf', C=1e3, gamma=0.1)\n",
    "svr_lin = SVR(kernel='linear', C=1e3)\n",
    "svr_poly = SVR(kernel='poly', C=1e3, degree=2)\n",
    "y_rbf = svr_rbf.fit(X, y.ravel()).predict(X)\n",
    "y_lin = svr_lin.fit(X, y.ravel()).predict(X)\n",
    "y_poly = svr_poly.fit(X, y.ravel()).predict(X)"
   ]
  },
  {
   "cell_type": "code",
   "execution_count": 41,
   "metadata": {
    "ExecuteTime": {
     "end_time": "2021-02-19T06:46:12.649331Z",
     "start_time": "2021-02-19T06:46:12.646273Z"
    }
   },
   "outputs": [],
   "source": [
    "#svr_poly.fit(X_train, y_train.ravel()).predict(X_train)"
   ]
  },
  {
   "cell_type": "code",
   "execution_count": 42,
   "metadata": {
    "ExecuteTime": {
     "end_time": "2021-02-19T06:46:12.965277Z",
     "start_time": "2021-02-19T06:46:12.651279Z"
    }
   },
   "outputs": [
    {
     "data": {
      "image/png": "[encoded data removed]",
      "text/plain": [
       "<Figure size 432x288 with 1 Axes>"
      ]
     },
     "metadata": {
      "needs_background": "light"
     },
     "output_type": "display_data"
    }
   ],
   "source": [
    "lw = 2\n",
    "plt.scatter(X, y, color='darkorange', label='data')\n",
    "#plt.hold('on')\n",
    "plt.plot(X, y_rbf, color='navy', lw=lw, label='RBF model')\n",
    "plt.plot(X, y_lin, color='c', lw=lw, label='Linear model')\n",
    "plt.plot(X, y_poly, color='cornflowerblue', lw=lw, label='Polynomial model')\n",
    "plt.xlabel('covid cases for past 7 days')\n",
    "plt.ylabel('no of trip for past 7 days')\n",
    "plt.title('First Wave Support Vector Regression')\n",
    "plt.legend()\n",
    "plt.savefig('static\\\\images\\svr.jpg',dpi=300)\n",
    "plt.show()"
   ]
  },
  {
   "cell_type": "code",
   "execution_count": 43,
   "metadata": {
    "ExecuteTime": {
     "end_time": "2021-02-19T06:46:13.342862Z",
     "start_time": "2021-02-19T06:46:12.968274Z"
    }
   },
   "outputs": [
    {
     "data": {
      "text/plain": [
       "Text(0.5, 1.0, 'Residual Plot')"
      ]
     },
     "execution_count": 43,
     "metadata": {},
     "output_type": "execute_result"
    },
    {
     "data": {
      "image/png": "[encoded data removed]",
      "text/plain": [
       "<Figure size 432x288 with 1 Axes>"
      ]
     },
     "metadata": {
      "needs_background": "light"
     },
     "output_type": "display_data"
    }
   ],
   "source": [
    "# Plot the Residuals for the Training and Testing data\n",
    "\n",
    "### BEGIN SOLUTION \n",
    "plt.scatter(model.predict(X_train), model.predict(X_train) - y_train, c=\"blue\", label=\"Training Data\") \n",
    "plt.scatter(model.predict(X_test), model.predict(X_test) - y_test, c=\"orange\", label=\"Testing Data\")\n",
    "plt.legend()\n",
    "plt.hlines(y=0, xmin=y.min(), xmax=y.max())\n",
    "plt.title(\"Residual Plot\")\n",
    "### END SOLUTION"
   ]
  },
  {
   "cell_type": "code",
   "execution_count": null,
   "metadata": {},
   "outputs": [],
   "source": []
  }
 ],
 "metadata": {
  "hide_input": false,
  "kernelspec": {
   "display_name": "Python 3",
   "language": "python",
   "name": "python3"
  },
  "language_info": {
   "codemirror_mode": {
    "name": "ipython",
    "version": 3
   },
   "file_extension": ".py",
   "mimetype": "text/x-python",
   "name": "python",
   "nbconvert_exporter": "python",
   "pygments_lexer": "ipython3",
   "version": "3.7.9"
  },
  "varInspector": {
   "cols": {
    "lenName": 16,
    "lenType": 16,
    "lenVar": 40
   },
   "kernels_config": {
    "python": {
     "delete_cmd_postfix": "",
     "delete_cmd_prefix": "del ",
     "library": "var_list.py",
     "varRefreshCmd": "print(var_dic_list())"
    },
    "r": {
     "delete_cmd_postfix": ") ",
     "delete_cmd_prefix": "rm(",
     "library": "var_list.r",
     "varRefreshCmd": "cat(var_dic_list()) "
    }
   },
   "types_to_exclude": [
    "module",
    "function",
    "builtin_function_or_method",
    "instance",
    "_Feature"
   ],
   "window_display": false
  }
 },
 "nbformat": 4,
 "nbformat_minor": 4
}
